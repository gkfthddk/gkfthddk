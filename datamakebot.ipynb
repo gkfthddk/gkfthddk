{
 "cells": [
  {
   "cell_type": "code",
   "execution_count": 1,
   "metadata": {},
   "outputs": [
    {
     "name": "stdout",
     "output_type": "stream",
     "text": [
      "Welcome to JupyROOT 6.10/00\n"
     ]
    }
   ],
   "source": [
    "import mxnet as mx\n",
    "import ROOT as rt\n",
    "import numpy as np\n",
    "import math\n",
    "\n",
    "import datetime"
   ]
  },
  {
   "cell_type": "code",
   "execution_count": 3,
   "metadata": {},
   "outputs": [
    {
     "name": "stdout",
     "output_type": "stream",
     "text": [
      "(47, 3, 33, 33)\n",
      "0:04:14.898140\n"
     ]
    }
   ],
   "source": [
    "start=datetime.datetime.now()\n",
    "\n",
    "jetset=[]\n",
    "labels=[]\n",
    "maxx=0.4\n",
    "maxy=0.4                  \n",
    "arnum=16\n",
    "dx=0\n",
    "bx=2*maxx/(2*arnum+1)\n",
    "by=2*maxy/(2*arnum+1)\n",
    "read=rt.TFile('jet2.root')\n",
    "record=mx.recordio.MXIndexedRecordIO('tmpl.idx','tmpl.rec','w')\n",
    "jet=rt.gDirectory.Get('jetAnalyser/jetAnalyser')\n",
    "entries=jet.GetEntriesFast()\n",
    "overlap=np.zeros(shape=(3,2*arnum+1,2*arnum+1))\n",
    "gover=np.zeros(shape=(3,2*arnum+1,2*arnum+1))\n",
    "qover=np.zeros(shape=(3,2*arnum+1,2*arnum+1))\n",
    "for ent in range(entries):\n",
    "    #if ent>1000:\n",
    "    #    break\n",
    "    jet.GetEntry(ent)\n",
    "    #if jet.pt<300 or jet.pt>400:\n",
    "        #continue\n",
    "    if jet.partonId==0:\n",
    "        continue\n",
    "    palet=np.zeros(shape=(3,2*arnum+1,2*arnum+1),dtype=np.float16)\n",
    "    r=0\n",
    "    g=0\n",
    "    b=0\n",
    "    for i in range(len(jet.dau_pt)):\n",
    "        x=int(math.floor((jet.dau_deta[i]/bx)+0.5)+arnum)\n",
    "        if x<0 or x>2*arnum:\n",
    "            continue\n",
    "        y=int(math.floor((jet.dau_dphi[i]/by)+0.5)+arnum)\n",
    "        if y<0 or y>2*arnum:\n",
    "            continue\n",
    "        pt=jet.dau_pt[i]\n",
    "        if jet.dau_charge[i]==0:\n",
    "            palet[1][x][y]+=pt\n",
    "\n",
    "            if palet[1][x][y]>g:\n",
    "                g=palet[1][x][y]\n",
    "        else:\n",
    "            palet[0][x][y]+=pt\n",
    "            palet[2][x][y]+=1\n",
    "\n",
    "            if palet[0][x][y]>r:\n",
    "                r=palet[0][x][y]\n",
    "            if palet[2][x][y]>b:\n",
    "                b=palet[2][x][y]\n",
    "            #pass\n",
    "    #record.write(palet)\n",
    "    for i in range(2*arnum+1):\n",
    "        for j in range(2*arnum+1):\n",
    "            if r!=0:\n",
    "                palet[0][i][j]=255*palet[0][i][j]/r\n",
    "            if g!=0:\n",
    "                palet[1][i][j]=255*palet[1][i][j]/g\n",
    "            if b!=0:\n",
    "                palet[2][i][j]=255*palet[2][i][j]/b\n",
    "    \n",
    "    jetset.append(palet)\n",
    "    if (ent%1000==0):\n",
    "        jetset=np.array(jetset,dtype=np.uint8)\n",
    "        for l in range(len(jetset)):\n",
    "            record.write_idx(dx,str(jetset[l].tolist()))\n",
    "            dx+=1\n",
    "        jetset=[]\n",
    "    if jet.partonId==21:\n",
    "        labels.append(1)\n",
    "        gover=np.add(gover,palet)\n",
    "    else:\n",
    "        labels.append(0)\n",
    "        qover=np.add(qover,palet)\n",
    "    overlap=np.add(overlap,palet)\n",
    "    \n",
    "    \n",
    "jetset=np.array(jetset,dtype=np.uint8)\n",
    "for l in range(len(jetset)):\n",
    "    record.write_idx(dx,str(jetset[l].tolist()))\n",
    "    dx+=1\n",
    "[r,g,b]=[0,0,0]\n",
    "[gr,gg,gb]=[0,0,0]\n",
    "[qr,qg,qb]=[0,0,0]\n",
    "for i in range(2*arnum+1):\n",
    "        for j in range(2*arnum+1):\n",
    "            if overlap[0][i][j]>r:\n",
    "                r=overlap[0][i][j]\n",
    "            if overlap[1][i][j]>g:\n",
    "                g=overlap[1][i][j]\n",
    "            if overlap[2][i][j]>b:\n",
    "                b=overlap[2][i][j]\n",
    "                \n",
    "for i in range(2*arnum+1):\n",
    "        for j in range(2*arnum+1):\n",
    "            if r!=0:\n",
    "                overlap[0][i][j]=overlap[0][i][j]/r\n",
    "            if g!=0:\n",
    "                overlap[1][i][j]=overlap[1][i][j]/g\n",
    "            if b!=0:\n",
    "                overlap[2][i][j]=overlap[2][i][j]/b\n",
    "record.close()\n",
    "labels=np.array(labels)\n",
    "jetset=np.array(jetset,dtype=np.uint8)\n",
    "print jetset.shape\n",
    "data=jetset.reshape((len(jetset),3*33*33))\n",
    "print datetime.datetime.now()-start"
   ]
  },
  {
   "cell_type": "code",
   "execution_count": 10,
   "metadata": {},
   "outputs": [
    {
     "data": {
      "text/plain": [
       "33"
      ]
     },
     "execution_count": 10,
     "metadata": {},
     "output_type": "execute_result"
    }
   ],
   "source": [
    "len(palet.tolist()[1])"
   ]
  },
  {
   "cell_type": "code",
   "execution_count": null,
   "metadata": {
    "collapsed": true
   },
   "outputs": [],
   "source": [
    "0:04:22.827886\n",
    "        0:03:52.983626\n",
    "start=datetime.datetime.now()\n",
    "record=mx.recordio.MXIndexedRecordIO('tmpl.idx','tmpl.rec','w')\n",
    "j=0\n",
    "for i in data[:]:\n",
    "    record.write_idx(j,str(i.tolist()))\n",
    "    j+=1\n",
    "record.close()\n",
    "\n",
    "print datetime.datetime.now()-start"
   ]
  },
  {
   "cell_type": "code",
   "execution_count": 19,
   "metadata": {},
   "outputs": [
    {
     "data": {
      "text/plain": [
       "array([  0,   0,   0,   0,   0,   0,   0,   0,   0,   0,   0,   0,   0,\n",
       "         0,  12,   0, 255,   0,   0,   0,   0,   0,   2,   0,   0,   0,\n",
       "         0,   0,   0,   0,   0,   0,   0], dtype=uint8)"
      ]
     },
     "execution_count": 19,
     "metadata": {},
     "output_type": "execute_result"
    }
   ],
   "source": [
    "np.uint8(jetset[1][1][16][:])"
   ]
  },
  {
   "cell_type": "code",
   "execution_count": 53,
   "metadata": {},
   "outputs": [
    {
     "name": "stdout",
     "output_type": "stream",
     "text": [
      "0:00:05.532844\n"
     ]
    }
   ],
   "source": [
    "start=datetime.datetime.now()\n",
    "for i in data:\n",
    "    if(eval(str(tuple(i)))!=tuple(i)):\n",
    "        print \"b\"\n",
    "        break\n",
    "print datetime.datetime.now()-start\n"
   ]
  },
  {
   "cell_type": "code",
   "execution_count": 52,
   "metadata": {},
   "outputs": [
    {
     "name": "stdout",
     "output_type": "stream",
     "text": [
      "0:00:03.899646\n"
     ]
    }
   ],
   "source": [
    "start=datetime.datetime.now()\n",
    "j=0\n",
    "for i in data:\n",
    "    if(eval(str(i.tolist()))!=i.tolist()):\n",
    "        print j\n",
    "        break\n",
    "    j+=1\n",
    "print datetime.datetime.now()-start\n"
   ]
  },
  {
   "cell_type": "code",
   "execution_count": 178,
   "metadata": {},
   "outputs": [
    {
     "name": "stdout",
     "output_type": "stream",
     "text": [
      "0:00:47.633305\n"
     ]
    }
   ],
   "source": [
    "start=datetime.datetime.now()\n",
    "record=mx.recordio.MXRecordIO('tmpt.rec','w')\n",
    "for i in data[:]:\n",
    "    record.write(str(tuple(i)))\n",
    "record.close()\n",
    "print datetime.datetime.now()-start"
   ]
  },
  {
   "cell_type": "code",
   "execution_count": 184,
   "metadata": {},
   "outputs": [
    {
     "name": "stdout",
     "output_type": "stream",
     "text": [
      "14948 0:01:08.726526\n"
     ]
    }
   ],
   "source": [
    "start=datetime.datetime.now()\n",
    "record=mx.recordio.MXRecordIO('tmpt.rec','r')\n",
    "j=0\n",
    "while True:\n",
    "    item = record.read()\n",
    "    if not item:\n",
    "        break\n",
    "    if(eval(item)!=tuple(data[j])):\n",
    "        print j\n",
    "        break\n",
    "    j+=1\n",
    "record.close()\n",
    "print j,datetime.datetime.now()-start"
   ]
  },
  {
   "cell_type": "code",
   "execution_count": 21,
   "metadata": {},
   "outputs": [
    {
     "name": "stdout",
     "output_type": "stream",
     "text": [
      "0:00:03.013569\n"
     ]
    }
   ],
   "source": [
    "start=datetime.datetime.now()\n",
    "record=mx.recordio.MXIndexedRecordIO('tmpl.idx','tmpl.rec','w')\n",
    "j=0\n",
    "for i in data[:]:\n",
    "    record.write_idx(j,str(i.tolist()))\n",
    "    j+=1\n",
    "record.close()\n",
    "\n",
    "print datetime.datetime.now()-start"
   ]
  },
  {
   "cell_type": "code",
   "execution_count": 183,
   "metadata": {},
   "outputs": [
    {
     "name": "stdout",
     "output_type": "stream",
     "text": [
      "14948 0:01:06.879232\n"
     ]
    }
   ],
   "source": [
    "start=datetime.datetime.now()\n",
    "record=mx.recordio.MXRecordIO('tmpl.rec','r')\n",
    "j=0\n",
    "while True:\n",
    "    item = record.read()\n",
    "    if not item:\n",
    "        break\n",
    "    if(eval(item)!=data[j].tolist()):\n",
    "        print j\n",
    "        break\n",
    "    j+=1\n",
    "record.close()\n",
    "print j,datetime.datetime.now()-start"
   ]
  },
  {
   "cell_type": "code",
   "execution_count": null,
   "metadata": {
    "collapsed": true
   },
   "outputs": [],
   "source": [
    "start=datetime.datetime.now()\n",
    "record=mx.recordio.MXRecordIO('tmpl.rec','w')\n",
    "for i in len(labels):\n",
    "    header=mx.recordio.IRHeader(0,labels[i],123,0)\n",
    "    record.write(str(data[i].tolist()))\n",
    "record.close()\n",
    "print datetime.datetime.now()-start"
   ]
  },
  {
   "cell_type": "code",
   "execution_count": null,
   "metadata": {
    "collapsed": true
   },
   "outputs": [],
   "source": [
    "header=mx.recordio.IRHeader(0,labels[1],123,0)\n",
    "packed=mx.recordio.pack_img(header,np.array([[[23,27,45],[28,32,50],[36,40,59],[35,39,58]],[[91,92,113],[97,98,119],[168,169,167],[166,167,165]]]))"
   ]
  },
  {
   "cell_type": "code",
   "execution_count": 15,
   "metadata": {},
   "outputs": [
    {
     "data": {
      "text/plain": [
       "array([[[ 23,  27,  45],\n",
       "        [ 28,  32,  50],\n",
       "        [ 36,  40,  59],\n",
       "        [ 35,  39,  58]],\n",
       "\n",
       "       [[ 91,  92, 113],\n",
       "        [ 97,  98, 119],\n",
       "        [168, 169, 167],\n",
       "        [166, 167, 165]]])"
      ]
     },
     "execution_count": 15,
     "metadata": {},
     "output_type": "execute_result"
    }
   ],
   "source": [
    "np.array([[[23,27,45],[28,32,50],[36,40,59],[35,39,58]],[[91,92,113],[97,98,119],[168,169,167],[166,167,165]]])"
   ]
  },
  {
   "cell_type": "code",
   "execution_count": 26,
   "metadata": {},
   "outputs": [
    {
     "data": {
      "text/plain": [
       "0"
      ]
     },
     "execution_count": 26,
     "metadata": {},
     "output_type": "execute_result"
    },
    {
     "name": "stdout",
     "output_type": "stream",
     "text": [
      "total 416M\n",
      "drwxr-xr-x 4 root root 4.0K Jun 29 07:04 .\n",
      "drwxr-xr-x 1 root root 4.0K Jun 21 06:06 ..\n",
      "drwxr-xr-x 8 root root 4.0K Jun 21 06:05 .git\n",
      "drwxr-xr-x 2 root root 4.0K Jun 21 06:27 .ipynb_checkpoints\n",
      "-rw-r--r-- 1 root root  11K Jun 29 07:04 datamake.ipynb\n",
      "-rw-r--r-- 1 root root 100K Jun 21 06:05 jet run-Copy1.ipynb\n",
      "-rwxr-xr-x 1 root root  24M May 31 07:15 jet2.root\n",
      "-rw-r--r-- 1 root root 173K Jun 21 06:05 jetrun-Copy1.ipynb\n",
      "-rw-r--r-- 1 root root 200K Jun 21 06:05 jetrun-Copy2.ipynb\n",
      "-rw-r--r-- 1 root root 122K Jun 22 06:27 jetrun.ipynb\n",
      "-rw-r--r-- 1 root root  14K Jun 21 06:05 mnist_python-Copy1.ipynb\n",
      "-rwxr-xr-x 1 root root  20K Jun 21 06:05 mnist_python.ipynb\n",
      "-rw-r--r-- 1 root root  16M Jun 22 07:03 tmp.rec\n",
      "-rw-r--r-- 1 root root 212K Jun 29 05:35 tmpl.idx\n",
      "-rw-r--r-- 1 root root 141M Jun 29 05:35 tmpl.rec\n",
      "-rw-r--r-- 1 root root 235M Jun 27 08:28 tmpt.rec\n"
     ]
    }
   ],
   "source": [
    "import os\n",
    "os.system(\"ls -alh\")"
   ]
  },
  {
   "cell_type": "code",
   "execution_count": null,
   "metadata": {
    "collapsed": true
   },
   "outputs": [],
   "source": []
  }
 ],
 "metadata": {
  "kernelspec": {
   "display_name": "Python 2",
   "language": "python",
   "name": "python2"
  },
  "language_info": {
   "codemirror_mode": {
    "name": "ipython",
    "version": 2
   },
   "file_extension": ".py",
   "mimetype": "text/x-python",
   "name": "python",
   "nbconvert_exporter": "python",
   "pygments_lexer": "ipython2",
   "version": "2.7.6"
  }
 },
 "nbformat": 4,
 "nbformat_minor": 2
}
