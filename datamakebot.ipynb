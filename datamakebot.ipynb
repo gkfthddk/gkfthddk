{
 "cells": [
  {
   "cell_type": "code",
   "execution_count": 3,
   "metadata": {},
   "outputs": [
    {
     "name": "stdout",
     "output_type": "stream",
     "text": [
      "Welcome to JupyROOT 6.10/00\n"
     ]
    }
   ],
   "source": [
    "import mxnet as mx\n",
    "import ROOT as rt\n",
    "import numpy as np\n",
    "import math\n",
    "\n",
    "import datetime"
   ]
  },
  {
   "cell_type": "code",
   "execution_count": 3,
   "metadata": {},
   "outputs": [
    {
     "name": "stdout",
     "output_type": "stream",
     "text": [
      "0:03:16.627497\n"
     ]
    }
   ],
   "source": [
    "start=datetime.datetime.now()\n",
    "\n",
    "jetset=[]\n",
    "labels=[]\n",
    "maxx=0.4\n",
    "maxy=0.4                  \n",
    "arnum=16\n",
    "dx=0\n",
    "bx=2*maxx/(2*arnum+1)\n",
    "by=2*maxy/(2*arnum+1)\n",
    "read=rt.TFile('jet2.root')\n",
    "#record=mx.recordio.MXIndexedRecordIO('tmptlb.idx','tmptlb.rec','w')\n",
    "record=mx.recordio.MXRecordIO('tmptdb.rec','w')\n",
    "jet=rt.gDirectory.Get('jetAnalyser/jetAnalyser')\n",
    "entries=jet.GetEntriesFast()\n",
    "overlap=np.zeros(shape=(3,2*arnum+1,2*arnum+1))\n",
    "\n",
    "for ent in range(entries):\n",
    "    #if ent>1000:\n",
    "    #    break\n",
    "    jet.GetEntry(ent)\n",
    "    #if jet.pt<300 or jet.pt>400:\n",
    "        #continue\n",
    "    if jet.partonId==0:\n",
    "        continue\n",
    "    palet=np.zeros(shape=(3,2*arnum+1,2*arnum+1),dtype=np.float16)\n",
    "    r=0\n",
    "    g=0\n",
    "    b=0\n",
    "    for i in range(len(jet.dau_pt)):\n",
    "        x=int(math.floor((jet.dau_deta[i]/bx)+0.5)+arnum)\n",
    "        if x<0 or x>2*arnum:\n",
    "            continue\n",
    "        y=int(math.floor((jet.dau_dphi[i]/by)+0.5)+arnum)\n",
    "        if y<0 or y>2*arnum:\n",
    "            continue\n",
    "        pt=jet.dau_pt[i]\n",
    "        if jet.dau_charge[i]==0:\n",
    "            palet[1][x][y]+=pt\n",
    "\n",
    "            if palet[1][x][y]>g:\n",
    "                g=palet[1][x][y]\n",
    "        else:\n",
    "            palet[0][x][y]+=pt\n",
    "            palet[2][x][y]+=1\n",
    "\n",
    "            if palet[0][x][y]>r:\n",
    "                r=palet[0][x][y]\n",
    "            if palet[2][x][y]>b:\n",
    "                b=palet[2][x][y]\n",
    "            #pass\n",
    "    #record.write(palet)\n",
    "    for i in range(2*arnum+1):\n",
    "        for j in range(2*arnum+1):\n",
    "            if r!=0:\n",
    "                palet[0][i][j]=255*palet[0][i][j]/r\n",
    "            if g!=0:\n",
    "                palet[1][i][j]=255*palet[1][i][j]/g\n",
    "            if b!=0:\n",
    "                palet[2][i][j]=255*palet[2][i][j]/b\n",
    "    \n",
    "    jetset.append(palet)\n",
    "    \"\"\"if (ent%1000==0):\n",
    "        jetset=np.array(jetset,dtype=np.uint8)\n",
    "        for l in range(len(jetset)):\n",
    "            #record.write_idx(dx,str(jetset[l].tolist()))\n",
    "            record.write(str(jetset[l].tolist()))\n",
    "            dx+=1\n",
    "        jetset=[]\"\"\"\n",
    "    if jet.partonId==21:\n",
    "        labels.append(1)\n",
    "\n",
    "    else:\n",
    "        labels.append(0)\n",
    "\n",
    "    overlap=np.add(overlap,palet)\n",
    "    \n",
    "    \n",
    "jetset=np.array(jetset,dtype=np.uint8)\n",
    "for l in range(len(jetset)):\n",
    "    record.write(str(jetset[l].tolist()))\n",
    "    #record.write_idx(dx,str(jetset[l].tolist()))\n",
    "    dx+=1\n",
    "[r,g,b]=[0,0,0]\n",
    "[gr,gg,gb]=[0,0,0]\n",
    "[qr,qg,qb]=[0,0,0]\n",
    "for i in range(2*arnum+1):\n",
    "        for j in range(2*arnum+1):\n",
    "            if overlap[0][i][j]>r:\n",
    "                r=overlap[0][i][j]\n",
    "            if overlap[1][i][j]>g:\n",
    "                g=overlap[1][i][j]\n",
    "            if overlap[2][i][j]>b:\n",
    "                b=overlap[2][i][j]\n",
    "                \n",
    "for i in range(2*arnum+1):\n",
    "        for j in range(2*arnum+1):\n",
    "            if r!=0:\n",
    "                overlap[0][i][j]=overlap[0][i][j]/r\n",
    "            if g!=0:\n",
    "                overlap[1][i][j]=overlap[1][i][j]/g\n",
    "            if b!=0:\n",
    "                overlap[2][i][j]=overlap[2][i][j]/b\n",
    "\n",
    "record.close()\n",
    "labels=np.array(labels)\n",
    "###jetset=np.array(jetset,dtype=np.uint8)\n",
    "###print jetset.shape\n",
    "###data=jetset.reshape((len(jetset),3*33*33))\n",
    "print datetime.datetime.now()-start"
   ]
  },
  {
   "cell_type": "code",
   "execution_count": 13,
   "metadata": {},
   "outputs": [
    {
     "data": {
      "text/plain": [
       "(14948, 3, 33, 33)"
      ]
     },
     "execution_count": 13,
     "metadata": {},
     "output_type": "execute_result"
    }
   ],
   "source": [
    "jetset.shape"
   ]
  },
  {
   "cell_type": "code",
   "execution_count": null,
   "metadata": {
    "collapsed": true
   },
   "outputs": [],
   "source": [
    "0:04:22.827886\n",
    "        0:03:52.983626\n",
    "start=datetime.datetime.now()\n",
    "record=mx.recordio.MXIndexedRecordIO('tmpl.idx','tmpl.rec','w')\n",
    "j=0\n",
    "for i in data[:]:\n",
    "    record.write_idx(j,str(i.tolist()))\n",
    "    j+=1\n",
    "record.close()\n",
    "\n",
    "print datetime.datetime.now()-start"
   ]
  },
  {
   "cell_type": "code",
   "execution_count": 10,
   "metadata": {
    "collapsed": true
   },
   "outputs": [],
   "source": [
    "record = mx.recordio.MXRecordIO('tmptlb.rec','r')"
   ]
  },
  {
   "cell_type": "code",
   "execution_count": 11,
   "metadata": {},
   "outputs": [
    {
     "name": "stdout",
     "output_type": "stream",
     "text": [
      "14948\n"
     ]
    }
   ],
   "source": [
    "dx=0\n",
    "while True:\n",
    "    item=record.read()\n",
    "    if not item:\n",
    "        print dx\n",
    "        break\n",
    "    dx+=1"
   ]
  },
  {
   "cell_type": "code",
   "execution_count": 19,
   "metadata": {},
   "outputs": [
    {
     "data": {
      "text/plain": [
       "array([  0,   0,   0,   0,   0,   0,   0,   0,   0,   0,   0,   0,   0,\n",
       "         0,  12,   0, 255,   0,   0,   0,   0,   0,   2,   0,   0,   0,\n",
       "         0,   0,   0,   0,   0,   0,   0], dtype=uint8)"
      ]
     },
     "execution_count": 19,
     "metadata": {},
     "output_type": "execute_result"
    }
   ],
   "source": [
    "np.uint8(jetset[1][1][16][:])"
   ]
  },
  {
   "cell_type": "code",
   "execution_count": 53,
   "metadata": {},
   "outputs": [
    {
     "name": "stdout",
     "output_type": "stream",
     "text": [
      "0:00:05.532844\n"
     ]
    }
   ],
   "source": [
    "start=datetime.datetime.now()\n",
    "for i in data:\n",
    "    if(eval(str(tuple(i)))!=tuple(i)):\n",
    "        print \"b\"\n",
    "        break\n",
    "print datetime.datetime.now()-start\n"
   ]
  },
  {
   "cell_type": "code",
   "execution_count": 52,
   "metadata": {},
   "outputs": [
    {
     "name": "stdout",
     "output_type": "stream",
     "text": [
      "0:00:03.899646\n"
     ]
    }
   ],
   "source": [
    "start=datetime.datetime.now()\n",
    "j=0\n",
    "for i in data:\n",
    "    if(eval(str(i.tolist()))!=i.tolist()):\n",
    "        print j\n",
    "        break\n",
    "    j+=1\n",
    "print datetime.datetime.now()-start\n"
   ]
  },
  {
   "cell_type": "code",
   "execution_count": 178,
   "metadata": {},
   "outputs": [
    {
     "name": "stdout",
     "output_type": "stream",
     "text": [
      "0:00:47.633305\n"
     ]
    }
   ],
   "source": [
    "start=datetime.datetime.now()\n",
    "record=mx.recordio.MXRecordIO('tmpt.rec','w')\n",
    "for i in data[:]:\n",
    "    record.write(str(tuple(i)))\n",
    "record.close()\n",
    "print datetime.datetime.now()-start"
   ]
  },
  {
   "cell_type": "code",
   "execution_count": 184,
   "metadata": {},
   "outputs": [
    {
     "name": "stdout",
     "output_type": "stream",
     "text": [
      "14948 0:01:08.726526\n"
     ]
    }
   ],
   "source": [
    "start=datetime.datetime.now()\n",
    "record=mx.recordio.MXRecordIO('tmpt.rec','r')\n",
    "j=0\n",
    "while True:\n",
    "    item = record.read()\n",
    "    if not item:\n",
    "        break\n",
    "    if(eval(item)!=tuple(data[j])):\n",
    "        print j\n",
    "        break\n",
    "    j+=1\n",
    "record.close()\n",
    "print j,datetime.datetime.now()-start"
   ]
  },
  {
   "cell_type": "code",
   "execution_count": 21,
   "metadata": {},
   "outputs": [
    {
     "name": "stdout",
     "output_type": "stream",
     "text": [
      "0:00:03.013569\n"
     ]
    }
   ],
   "source": [
    "start=datetime.datetime.now()\n",
    "record=mx.recordio.MXIndexedRecordIO('tmpl.idx','tmpl.rec','w')\n",
    "j=0\n",
    "for i in data[:]:\n",
    "    record.write_idx(j,str(i.tolist()))\n",
    "    j+=1\n",
    "record.close()\n",
    "\n",
    "print datetime.datetime.now()-start"
   ]
  },
  {
   "cell_type": "code",
   "execution_count": 183,
   "metadata": {},
   "outputs": [
    {
     "name": "stdout",
     "output_type": "stream",
     "text": [
      "14948 0:01:06.879232\n"
     ]
    }
   ],
   "source": [
    "start=datetime.datetime.now()\n",
    "record=mx.recordio.MXRecordIO('tmpl.rec','r')\n",
    "j=0\n",
    "while True:\n",
    "    item = record.read()\n",
    "    if not item:\n",
    "        break\n",
    "    if(eval(item)!=data[j].tolist()):\n",
    "        print j\n",
    "        break\n",
    "    j+=1\n",
    "record.close()\n",
    "print j,datetime.datetime.now()-start"
   ]
  },
  {
   "cell_type": "code",
   "execution_count": null,
   "metadata": {
    "collapsed": true
   },
   "outputs": [],
   "source": [
    "start=datetime.datetime.now()\n",
    "record=mx.recordio.MXRecordIO('tmpl.rec','w')\n",
    "for i in len(labels):\n",
    "    header=mx.recordio.IRHeader(0,labels[i],123,0)\n",
    "    record.write(str(data[i].tolist()))\n",
    "record.close()\n",
    "print datetime.datetime.now()-start"
   ]
  },
  {
   "cell_type": "code",
   "execution_count": null,
   "metadata": {
    "collapsed": true
   },
   "outputs": [],
   "source": [
    "header=mx.recordio.IRHeader(0,labels[1],123,0)\n",
    "packed=mx.recordio.pack_img(header,np.array([[[23,27,45],[28,32,50],[36,40,59],[35,39,58]],[[91,92,113],[97,98,119],[168,169,167],[166,167,165]]]))"
   ]
  },
  {
   "cell_type": "code",
   "execution_count": 15,
   "metadata": {},
   "outputs": [
    {
     "data": {
      "text/plain": [
       "array([[[ 23,  27,  45],\n",
       "        [ 28,  32,  50],\n",
       "        [ 36,  40,  59],\n",
       "        [ 35,  39,  58]],\n",
       "\n",
       "       [[ 91,  92, 113],\n",
       "        [ 97,  98, 119],\n",
       "        [168, 169, 167],\n",
       "        [166, 167, 165]]])"
      ]
     },
     "execution_count": 15,
     "metadata": {},
     "output_type": "execute_result"
    }
   ],
   "source": [
    "np.array([[[23,27,45],[28,32,50],[36,40,59],[35,39,58]],[[91,92,113],[97,98,119],[168,169,167],[166,167,165]]])"
   ]
  },
  {
   "cell_type": "code",
   "execution_count": 4,
   "metadata": {},
   "outputs": [
    {
     "data": {
      "text/plain": [
       "0"
      ]
     },
     "execution_count": 4,
     "metadata": {},
     "output_type": "execute_result"
    },
    {
     "name": "stdout",
     "output_type": "stream",
     "text": [
      "total 555M\n",
      "drwxr-xr-x 5 root root 4.0K Jul 12 07:02 .\n",
      "drwxr-xr-x 1 root root 4.0K Jun 21 06:06 ..\n",
      "drwxr-xr-x 8 root root 4.0K Jun 29 12:26 .git\n",
      "drwxr-xr-x 2 root root 4.0K Jul 11 06:12 .ipynb_checkpoints\n",
      "drwxr-xr-x 4 root root 4.0K Jul 10 06:38 data\n",
      "-rw-r--r-- 1 root root 7.4K Jul 11 04:00 data.csv\n",
      "-rw-r--r-- 1 root root 433K Jul 11 06:14 data_python.ipynb\n",
      "-rw-r--r-- 1 root root  13K Jul 12 06:58 dataiter.ipynb\n",
      "-rw-r--r-- 1 root root  22K Jul 12 06:58 datamakebot.ipynb\n",
      "-rw-r--r-- 1 root root 100K Jun 21 06:05 jet run-Copy1.ipynb\n",
      "-rwxr-xr-x 1 root root  24M May 31 07:15 jet2.root\n",
      "-rw-r--r-- 1 root root 173K Jun 21 06:05 jetrun-Copy1.ipynb\n",
      "-rw-r--r-- 1 root root 200K Jun 21 06:05 jetrun-Copy2.ipynb\n",
      "-rw-r--r-- 1 root root 130K Jul 12 07:02 jetrun.ipynb\n",
      "-rw-r--r-- 1 root root  14K Jun 21 06:05 mnist_python-Copy1.ipynb\n",
      "-rwxr-xr-x 1 root root  20K Jun 21 06:05 mnist_python.ipynb\n",
      "-rw-r--r-- 1 root root  696 Jul 10 06:43 tmp.idx\n",
      "-rw-r--r-- 1 root root    0 Jul 12 06:58 tmp.rec\n",
      "-rw-r--r-- 1 root root 212K Jun 29 12:22 tmpl.idx\n",
      "-rw-r--r-- 1 root root 144M Jun 29 12:22 tmpl.rec\n",
      "-rw-r--r-- 1 root root 235M Jun 27 08:28 tmpt.rec\n",
      "-rw-r--r-- 1 root root 144M Jul 10 10:19 tmptdb.rec\n",
      "-rw-r--r-- 1 root root 176K Jul 10 09:59 tmptlb.rec\n",
      "-rw-r--r-- 1 root root 691K Jul 11 11:07 tree.root\n",
      "-rw-r--r-- 1 root root 7.3M Jul 12 07:00 treett.root\n"
     ]
    }
   ],
   "source": [
    "import os\n",
    "os.system(\"ls -alh\")"
   ]
  },
  {
   "cell_type": "code",
   "execution_count": 15,
   "metadata": {},
   "outputs": [
    {
     "data": {
      "text/plain": [
       "[[1, 23, 4], [3, 4]]"
      ]
     },
     "execution_count": 15,
     "metadata": {},
     "output_type": "execute_result"
    }
   ],
   "source": [
    "eval(str([[1,23,4],[3,4]]))"
   ]
  },
  {
   "cell_type": "code",
   "execution_count": 5,
   "metadata": {
    "collapsed": true
   },
   "outputs": [],
   "source": [
    "import numpy as np\n",
    "a=np.uint8([1.1123,3.555])"
   ]
  },
  {
   "cell_type": "code",
   "execution_count": 26,
   "metadata": {},
   "outputs": [
    {
     "name": "stdout",
     "output_type": "stream",
     "text": [
      "< - - - - - - - - - - >\n",
      "< -\n"
     ]
    }
   ],
   "source": [
    "print (\"< - - - - - - - - - - >\")\n",
    "print \"<\",\n",
    "print \"-\","
   ]
  },
  {
   "cell_type": "code",
   "execution_count": 5,
   "metadata": {},
   "outputs": [
    {
     "name": "stdout",
     "output_type": "stream",
     "text": [
      "99%\t time remain 0:00:00.102558"
     ]
    }
   ],
   "source": [
    "import time\n",
    "import sys\n",
    "start=datetime.datetime.now()\n",
    "for i in range(100):\n",
    "    time.sleep(0.1)\n",
    "    if(i!=0):\n",
    "        sys.stdout.write(\"\\r%d%%\\t time remain %s\" % (i ,str((100-i)*(datetime.datetime.now()-start)/i)))\n",
    "    sys.stdout.flush()"
   ]
  },
  {
   "cell_type": "code",
   "execution_count": 25,
   "metadata": {
    "collapsed": true
   },
   "outputs": [],
   "source": [
    "start=datetime.datetime.now()"
   ]
  },
  {
   "cell_type": "code",
   "execution_count": 9,
   "metadata": {
    "collapsed": true
   },
   "outputs": [],
   "source": [
    "import datetime\n",
    "bbb= (100-int(100*ent/entries))(datetime.datetime.now()-start)/(int(100*ent/entries))"
   ]
  },
  {
   "cell_type": "code",
   "execution_count": 117,
   "metadata": {},
   "outputs": [
    {
     "data": {
      "text/plain": [
       "'tree'"
      ]
     },
     "execution_count": 117,
     "metadata": {},
     "output_type": "execute_result"
    }
   ],
   "source": [
    "rt.string(\"tree\")"
   ]
  },
  {
   "cell_type": "code",
   "execution_count": 12,
   "metadata": {},
   "outputs": [
    {
     "name": "stdout",
     "output_type": "stream",
     "text": [
      "******************************************************************************\n",
      "*Tree    :treename  : mytree                                                 *\n",
      "*Entries :        3 : Total =            1024 bytes  File  Size =          0 *\n",
      "*        :          : Tree compression factor =   1.00                       *\n",
      "******************************************************************************\n",
      "*Br    0 :mystr     : string                                                 *\n",
      "*Entries :        3 : Total  Size=        682 bytes  One basket in memory    *\n",
      "*Baskets :        0 : Basket Size=      32000 bytes  Compression=   1.00     *\n",
      "*............................................................................*\n"
     ]
    }
   ],
   "source": [
    "import ROOT as rt\n",
    "tree = rt.TTree( 'treename', 'mytree' )\n",
    "s = rt.string()\n",
    "tree.Branch('mystr',s)\n",
    "for word in ['hello','crue8kl','world']:\n",
    "   s.replace(0, rt.string.npos, word)\n",
    "   #s=rt.string(word)\n",
    "   tree.Fill()\n",
    "tree.Print()"
   ]
  },
  {
   "cell_type": "code",
   "execution_count": 11,
   "metadata": {},
   "outputs": [
    {
     "data": {
      "text/plain": [
       "'hello'"
      ]
     },
     "execution_count": 11,
     "metadata": {},
     "output_type": "execute_result"
    }
   ],
   "source": [
    "tree.mystr"
   ]
  },
  {
   "cell_type": "code",
   "execution_count": 13,
   "metadata": {},
   "outputs": [
    {
     "name": "stderr",
     "output_type": "stream",
     "text": [
      "Warning in <TBranch::TBranch>: Extra characters after type tag 'string' for branch 'norm'; must be one character.\n"
     ]
    }
   ],
   "source": [
    "import ROOT\n",
    "import numpy as np\n",
    "f = ROOT.TFile(\"tree.root\", \"recreate\")\n",
    "t = ROOT.TTree(\"name_of_tree\", \"tree title\")\n",
    "\n",
    "\n",
    "# create 1 dimensional float arrays (python's float datatype corresponds to c++ doubles)\n",
    "# as fill variables\n",
    "n = np.zeros(2, dtype=float)\n",
    "u = np.zeros(2, dtype=float)\n",
    "\n",
    "# create the branches and assign the fill-variables to them\n",
    "t.Branch('norm', n, 'normal/string')\n",
    "t.Branch('uniform', u, 'uniform/D')\n",
    "\n",
    "# create some random numbers, fill them into the fill varibles and call Fill()\n",
    "for i in xrange(100000):\n",
    "\tn[0] = ROOT.gRandom.Gaus()\n",
    "\tn[1] = ROOT.gRandom.Uniform()\n",
    "\tu[0] = ROOT.gRandom.Uniform()\n",
    "\tt.Fill()\n",
    "\n",
    "# write the tree into the output file and close the file\n",
    "f.Write()\n",
    "f.Close()"
   ]
  },
  {
   "cell_type": "code",
   "execution_count": 51,
   "metadata": {
    "collapsed": true
   },
   "outputs": [],
   "source": [
    "read=rt.TFile('tree.root')\n",
    "jet=rt.gDirectory.Get('name_of_tree')\n",
    "entries=jet.GetEntriesFast()"
   ]
  },
  {
   "cell_type": "code",
   "execution_count": 19,
   "metadata": {
    "collapsed": true
   },
   "outputs": [],
   "source": [
    "read=rt.TFile('treett.root')\n",
    "jet=rt.gDirectory.Get('imgset')"
   ]
  },
  {
   "cell_type": "code",
   "execution_count": 21,
   "metadata": {},
   "outputs": [
    {
     "name": "stdout",
     "output_type": "stream",
     "text": [
      "TFile**\t\ttreett.root\t\n",
      " TFile*\t\ttreett.root\t\n"
     ]
    }
   ],
   "source": [
    "read.ls()"
   ]
  },
  {
   "cell_type": "code",
   "execution_count": 40,
   "metadata": {},
   "outputs": [
    {
     "data": {
      "text/plain": [
       "16"
      ]
     },
     "execution_count": 40,
     "metadata": {},
     "output_type": "execute_result"
    }
   ],
   "source": [
    "jet.GetEntry(8)"
   ]
  },
  {
   "cell_type": "code",
   "execution_count": 52,
   "metadata": {},
   "outputs": [
    {
     "data": {
      "text/plain": [
       "0.0"
      ]
     },
     "execution_count": 52,
     "metadata": {},
     "output_type": "execute_result"
    }
   ],
   "source": [
    "jet.nor"
   ]
  },
  {
   "cell_type": "code",
   "execution_count": 42,
   "metadata": {},
   "outputs": [
    {
     "data": {
      "text/plain": [
       "array([ 0.,  0.])"
      ]
     },
     "execution_count": 42,
     "metadata": {},
     "output_type": "execute_result"
    }
   ],
   "source": [
    "np.zeros(2, dtype=float)"
   ]
  },
  {
   "cell_type": "code",
   "execution_count": 53,
   "metadata": {},
   "outputs": [
    {
     "name": "stdout",
     "output_type": "stream",
     "text": [
      "******************************************************************************\n",
      "*Tree    :name_of_tree: tree title                                             *\n",
      "*Entries :   100000 : Total =         1204930 bytes  File  Size =     900268 *\n",
      "*        :          : Tree compression factor =   1.34                       *\n",
      "******************************************************************************\n",
      "*Br    0 :norm      : Float_t vector<float>                                  *\n",
      "*Entries :   100000 : Total  Size=     401602 bytes  File Size  =     353685 *\n",
      "*Baskets :       13 : Basket Size=      32000 bytes  Compression=   1.13     *\n",
      "*............................................................................*\n",
      "*Br    1 :uniform   : uniform/D                                              *\n",
      "*Entries :   100000 : Total  Size=     802962 bytes  File Size  =     545678 *\n",
      "*Baskets :       26 : Basket Size=      32000 bytes  Compression=   1.47     *\n",
      "*............................................................................*\n"
     ]
    }
   ],
   "source": [
    "jet.Print()"
   ]
  },
  {
   "cell_type": "code",
   "execution_count": 96,
   "metadata": {
    "collapsed": true
   },
   "outputs": [],
   "source": [
    "a=rt.vector(\"float\")()"
   ]
  },
  {
   "cell_type": "code",
   "execution_count": 97,
   "metadata": {
    "collapsed": true
   },
   "outputs": [],
   "source": [
    "for i in range(10):\n",
    "    a.push_back(i)"
   ]
  },
  {
   "cell_type": "code",
   "execution_count": 105,
   "metadata": {
    "collapsed": true
   },
   "outputs": [],
   "source": [
    "b=rt.vector(rt.vector('float'))()"
   ]
  },
  {
   "cell_type": "code",
   "execution_count": 106,
   "metadata": {},
   "outputs": [
    {
     "ename": "TypeError",
     "evalue": "none of the 2 overloaded methods succeeded. Full details:\n  void vector<vector<float> >::push_back(const vector<float>& __x) =>\n    could not convert argument 1\n  void vector<vector<float> >::push_back(vector<float>&& __x) =>\n    could not convert argument 1 (this method can not (yet) be called)",
     "output_type": "error",
     "traceback": [
      "\u001b[0;31m\u001b[0m",
      "\u001b[0;31mTypeError\u001b[0mTraceback (most recent call last)",
      "\u001b[0;32m<ipython-input-106-02df759eba29>\u001b[0m in \u001b[0;36m<module>\u001b[0;34m()\u001b[0m\n\u001b[1;32m      1\u001b[0m \u001b[0;32mfor\u001b[0m \u001b[0mi\u001b[0m \u001b[0;32min\u001b[0m \u001b[0mrange\u001b[0m\u001b[0;34m(\u001b[0m\u001b[0;36m10\u001b[0m\u001b[0;34m)\u001b[0m\u001b[0;34m:\u001b[0m\u001b[0;34m\u001b[0m\u001b[0m\n\u001b[0;32m----> 2\u001b[0;31m     \u001b[0mb\u001b[0m\u001b[0;34m.\u001b[0m\u001b[0mpush_back\u001b[0m\u001b[0;34m(\u001b[0m\u001b[0mi\u001b[0m\u001b[0;34m)\u001b[0m\u001b[0;34m\u001b[0m\u001b[0m\n\u001b[0m",
      "\u001b[0;31mTypeError\u001b[0m: none of the 2 overloaded methods succeeded. Full details:\n  void vector<vector<float> >::push_back(const vector<float>& __x) =>\n    could not convert argument 1\n  void vector<vector<float> >::push_back(vector<float>&& __x) =>\n    could not convert argument 1 (this method can not (yet) be called)"
     ]
    }
   ],
   "source": [
    "for i in range(10):\n",
    "    b.push_back(i)"
   ]
  },
  {
   "cell_type": "code",
   "execution_count": null,
   "metadata": {
    "collapsed": true
   },
   "outputs": [],
   "source": []
  }
 ],
 "metadata": {
  "kernelspec": {
   "display_name": "Python 2",
   "language": "python",
   "name": "python2"
  },
  "language_info": {
   "codemirror_mode": {
    "name": "ipython",
    "version": 2
   },
   "file_extension": ".py",
   "mimetype": "text/x-python",
   "name": "python",
   "nbconvert_exporter": "python",
   "pygments_lexer": "ipython2",
   "version": "2.7.6"
  }
 },
 "nbformat": 4,
 "nbformat_minor": 2
}
