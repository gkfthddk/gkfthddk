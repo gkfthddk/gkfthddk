{
 "cells": [
  {
   "cell_type": "code",
   "execution_count": 1,
   "metadata": {},
   "outputs": [
    {
     "data": {
      "application/javascript": [
       "\n",
       "require(['notebook'],\n",
       "  function() {\n",
       "    IPython.CodeCell.config_defaults.highlight_modes['magic_text/x-c++src'] = {'reg':[/^%%cpp/]};\n",
       "    console.log(\"JupyROOT - %%cpp magic configured\");\n",
       "  }\n",
       ");\n"
      ]
     },
     "metadata": {},
     "output_type": "display_data"
    },
    {
     "name": "stdout",
     "output_type": "stream",
     "text": [
      "Welcome to JupyROOT 6.08/06\n"
     ]
    }
   ],
   "source": [
    "import mxnet as mx\n",
    "import ROOT as rt\n",
    "import numpy as np\n",
    "import math\n",
    "\n",
    "import datetime"
   ]
  },
  {
   "cell_type": "code",
   "execution_count": 3,
   "metadata": {},
   "outputs": [
    {
     "name": "stdout",
     "output_type": "stream",
     "text": [
      "(0,)\n",
      "4:21:28.639748\n"
     ]
    }
   ],
   "source": [
    "start=datetime.datetime.now()\n",
    "\n",
    "jetset=[]\n",
    "labels=[]\n",
    "maxx=0.4\n",
    "maxy=0.4                        \n",
    "arnum=16\n",
    "bx=2*maxx/(2*arnum+1)\n",
    "by=2*maxy/(2*arnum+1)\n",
    "read=rt.TFile('jet1.root')\n",
    "jet=rt.gDirectory.Get('jetAnalyser/jetAnalyser')\n",
    "record=mx.recordio.MXIndexedRecordIO('tmpa1.idx','tmpa1.rec','w')\n",
    "entries=jet.GetEntriesFast()\n",
    "for ent in range(entries):\n",
    "    #if ent>1000:\n",
    "    #    break\n",
    "    jet.GetEntry(ent)\n",
    "    #if jet.pt<300 or jet.pt>400:\n",
    "        #continue\n",
    "    if jet.partonId==0:\n",
    "        continue\n",
    "    palet=np.zeros(shape=(3,2*arnum+1,2*arnum+1),dtype=np.float16)\n",
    "    r=0\n",
    "    g=0\n",
    "    b=0\n",
    "    for i in range(len(jet.dau_pt)):\n",
    "        x=int(math.floor((jet.dau_deta[i]/bx)+0.5)+arnum)\n",
    "        if x<0 or x>2*arnum:\n",
    "            continue\n",
    "        y=int(math.floor((jet.dau_dphi[i]/by)+0.5)+arnum)\n",
    "        if y<0 or y>2*arnum:\n",
    "            continue\n",
    "        pt=jet.dau_pt[i]\n",
    "        if jet.dau_charge[i]==0:\n",
    "            palet[1][x][y]+=pt\n",
    "\n",
    "            if palet[1][x][y]>g:\n",
    "                g=palet[1][x][y]\n",
    "        else:\n",
    "            palet[0][x][y]+=pt\n",
    "            palet[2][x][y]+=1\n",
    "\n",
    "            if palet[0][x][y]>r:\n",
    "                r=palet[0][x][y]\n",
    "            if palet[2][x][y]>b:\n",
    "                b=palet[2][x][y]\n",
    "            #pass\n",
    "    #record.write(palet)\n",
    "    for i in range(2*arnum+1):\n",
    "        for j in range(2*arnum+1):\n",
    "            if r!=0:\n",
    "                palet[0][i][j]=255*palet[0][i][j]/r\n",
    "            if g!=0:\n",
    "                palet[1][i][j]=255*palet[1][i][j]/g\n",
    "            if b!=0:\n",
    "                palet[2][i][j]=255*palet[2][i][j]/b\n",
    "    \n",
    "    record.write_idx(ent,str(np.uint8(palet.reshape((3267))).tolist()))\n",
    "    #jetset.append(np.uint8(palet))\n",
    "    if jet.partonId==21:\n",
    "        labels.append(1)\n",
    "    else:\n",
    "        labels.append(0)\n",
    "record.close()\n",
    "labels=np.array(labels)\n",
    "jetset=np.array(jetset)\n",
    "print jetset.shape\n",
    "data=jetset.reshape((len(jetset),3*33*33))\n",
    "print datetime.datetime.now()-start"
   ]
  },
  {
   "cell_type": "code",
   "execution_count": null,
   "metadata": {
    "collapsed": true
   },
   "outputs": [],
   "source": [
    "start=datetime.datetime.now()\n",
    "\n",
    "j=0\n",
    "for i in data[:]:\n",
    "    record.write_idx(j,str(i.tolist()))\n",
    "    j+=1\n",
    "record.close()\n",
    "\n",
    "print datetime.datetime.now()-start"
   ]
  },
  {
   "cell_type": "code",
   "execution_count": 5,
   "metadata": {},
   "outputs": [
    {
     "data": {
      "text/plain": [
       "0"
      ]
     },
     "execution_count": 5,
     "metadata": {},
     "output_type": "execute_result"
    },
    {
     "name": "stdout",
     "output_type": "stream",
     "text": [
      "total 32G\n",
      "drwxrwxr-x.  4 gkfthddk gkfthddk 4.0K Jun 29 16:12 .\n",
      "drwxr-xr-x. 18 gkfthddk gkfthddk 4.0K Jun 29 14:05 ..\n",
      "-rw-rw-r--.  1 gkfthddk gkfthddk 2.5M Jun 21 15:40 300pt-0005.params\n",
      "-rw-rw-r--.  1 gkfthddk gkfthddk 3.5K Jun 21 15:40 300pt-symbol.json\n",
      "-rw-rw-r--.  1 gkfthddk gkfthddk  97M Jun  8 17:15 ccdata06_07.csv\n",
      "-rw-rw-r--.  1 gkfthddk gkfthddk  98M Jun 14 16:26 ccdata06_14.csv\n",
      "-rw-rw-r--.  1 gkfthddk gkfthddk 4.3K Jun 29 16:12 datamake.ipynb\n",
      "drwxrwxr-x.  8 gkfthddk gkfthddk  166 Jun 21 14:46 .git\n",
      "drwxr-xr-x.  2 gkfthddk gkfthddk 4.0K Jun 29 14:06 .ipynb_checkpoints\n",
      "-rw-rw-r--.  1 gkfthddk gkfthddk 2.2G Jun  7 22:32 jet1.root\n",
      "-rw-rw-r--.  1 gkfthddk gkfthddk  24M Jun  7 22:29 jet2.root\n",
      "-rw-rw-r--.  1 gkfthddk gkfthddk  30G Jun  8 18:41 jetall.root\n",
      "-rw-rw-r--.  1 gkfthddk gkfthddk 100K Jun 16 14:22 jet run-Copy1.ipynb\n",
      "-rw-rw-r--.  1 gkfthddk gkfthddk 173K Jun 21 16:03 jetrun-Copy1.ipynb\n",
      "-rw-rw-r--.  1 gkfthddk gkfthddk 200K Jun 21 15:55 jetrun-Copy2.ipynb\n",
      "-rw-rw-r--.  1 gkfthddk gkfthddk 127K Jun 21 16:38 jetrun-Copy3.ipynb\n",
      "-rw-rw-r--.  1 gkfthddk gkfthddk 132K Jun 29 16:02 jetrun.ipynb\n",
      "-rw-rw-r--.  1 gkfthddk gkfthddk  14K Jun 16 14:41 mnist_python-Copy1.ipynb\n",
      "-rwxrwxrwx.  1 gkfthddk gkfthddk  34K Jun 21 16:25 mnist_python.ipynb\n",
      "-rw-rw-r--.  1 gkfthddk gkfthddk 212K Jun 29 16:12 tmp2.idx\n",
      "-rw-rw-r--.  1 gkfthddk gkfthddk 141M Jun 29 16:12 tmp2.rec\n",
      "-rw-rw-r--.  1 gkfthddk gkfthddk    0 Jun 29 14:27 tmp.rec\n"
     ]
    }
   ],
   "source": [
    "import os\n",
    "os.system(\"ls -alh\")"
   ]
  },
  {
   "cell_type": "code",
   "execution_count": 8,
   "metadata": {},
   "outputs": [],
   "source": [
    "record=mx.recordio.MXIndexedRecordIO('tmp1.idx','tmp1.rec','r')\n",
    "dd=eval(record.read_idx(3))"
   ]
  },
  {
   "cell_type": "code",
   "execution_count": 19,
   "metadata": {},
   "outputs": [],
   "source": [
    "nn=0\n",
    "bb=[]\n",
    "for i in range(3267):\n",
    "    if(dd[i]!=0):\n",
    "        bb.append([i,dd[i]])    \n",
    "print nn"
   ]
  },
  {
   "cell_type": "code",
   "execution_count": 21,
   "metadata": {},
   "outputs": [
    {
     "data": {
      "text/plain": [
       "48"
      ]
     },
     "execution_count": 21,
     "metadata": {},
     "output_type": "execute_result"
    }
   ],
   "source": [
    "len(bb)"
   ]
  },
  {
   "cell_type": "code",
   "execution_count": 25,
   "metadata": {},
   "outputs": [],
   "source": [
    "for [a,b] in bb:\n",
    "    print a,b\n",
    "    break"
   ]
  },
  {
   "cell_type": "code",
   "execution_count": 27,
   "metadata": {
    "collapsed": true
   },
   "outputs": [],
   "source": [
    "for a in bb:\n",
    "    print(a)\n",
    "    break"
   ]
  },
  {
   "cell_type": "code",
   "execution_count": 30,
   "metadata": {},
   "outputs": [
    {
     "data": {
      "text/plain": [
       "[175, 8]"
      ]
     },
     "execution_count": 30,
     "metadata": {},
     "output_type": "execute_result"
    }
   ],
   "source": [
    "bb[1]"
   ]
  },
  {
   "cell_type": "code",
   "execution_count": null,
   "metadata": {
    "collapsed": true
   },
   "outputs": [],
   "source": []
  }
 ],
 "metadata": {
  "kernelspec": {
   "display_name": "Python 2",
   "language": "python",
   "name": "python2"
  },
  "language_info": {
   "codemirror_mode": {
    "name": "ipython",
    "version": 2
   },
   "file_extension": ".py",
   "mimetype": "text/x-python",
   "name": "python",
   "nbconvert_exporter": "python",
   "pygments_lexer": "ipython2",
   "version": "2.7.5"
  }
 },
 "nbformat": 4,
 "nbformat_minor": 2
}
