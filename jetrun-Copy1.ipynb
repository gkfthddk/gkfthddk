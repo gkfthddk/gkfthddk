{
 "cells": [
  {
   "cell_type": "code",
   "execution_count": 2,
   "metadata": {},
   "outputs": [
    {
     "data": {
      "text/plain": [
       "749"
      ]
     },
     "execution_count": 2,
     "metadata": {},
     "output_type": "execute_result"
    }
   ],
   "source": [
    "jet.GetEntry(100)"
   ]
  },
  {
   "cell_type": "code",
   "execution_count": 1,
   "metadata": {},
   "outputs": [
    {
     "data": {
      "application/javascript": [
       "\n",
       "require(['notebook'],\n",
       "  function() {\n",
       "    IPython.CodeCell.config_defaults.highlight_modes['magic_text/x-c++src'] = {'reg':[/^%%cpp/]};\n",
       "    console.log(\"JupyROOT - %%cpp magic configured\");\n",
       "  }\n",
       ");\n"
      ]
     },
     "metadata": {},
     "output_type": "display_data"
    },
    {
     "name": "stdout",
     "output_type": "stream",
     "text": [
      "Welcome to JupyROOT 6.08/06\n",
      "0:04:28.502637\n"
     ]
    }
   ],
   "source": [
    "import ROOT as rt\n",
    "import numpy as np\n",
    "import math\n",
    "import mxnet as mx\n",
    "import datetime\n",
    "start=datetime.datetime.now()\n",
    "record=mx.recordio.MXRecordIO('tmp.rec','w')\n",
    "jetset=[]\n",
    "labels=[]\n",
    "maxx=0.4\n",
    "maxy=0.4\n",
    "arnum=16\n",
    "bx=2*maxx/(2*arnum+1)\n",
    "by=2*maxy/(2*arnum+1)\n",
    "read=rt.TFile('jet1.root')\n",
    "jet=rt.gDirectory.Get('jetAnalyser/jetAnalyser')\n",
    "entries=jet.GetEntriesFast()\n",
    "overlap=np.zeros(shape=(3,2*arnum+1,2*arnum+1))\n",
    "gover=np.zeros(shape=(3,2*arnum+1,2*arnum+1))\n",
    "qover=np.zeros(shape=(3,2*arnum+1,2*arnum+1))\n",
    "for ent in range(entries):\n",
    "    if ent>1000000:\n",
    "        break\n",
    "    jet.GetEntry(ent)\n",
    "    if jet.pt<300 or jet.pt>400:\n",
    "        continue\n",
    "    if jet.partonId==0:\n",
    "        continue\n",
    "    palet=np.zeros(shape=(3,2*arnum+1,2*arnum+1))\n",
    "    r=0\n",
    "    g=0\n",
    "    b=0\n",
    "    for i in range(len(jet.dau_pt)):\n",
    "        x=int(math.floor((jet.dau_deta[i]/bx)+0.5)+arnum)\n",
    "        if x<0 or x>2*arnum:\n",
    "            continue\n",
    "        y=int(math.floor((jet.dau_dphi[i]/by)+0.5)+arnum)\n",
    "        if y<0 or y>2*arnum:\n",
    "            continue\n",
    "        pt=jet.dau_pt[i]\n",
    "        if jet.dau_charge[i]==0:\n",
    "            palet[1][x][y]+=pt\n",
    "            #overlap[1][x][y]+=pt\n",
    "            if palet[1][x][y]>g:\n",
    "                g=palet[1][x][y]\n",
    "        else:\n",
    "            palet[0][x][y]+=pt\n",
    "            palet[2][x][y]+=1\n",
    "            #overlap[0][x][y]+=pt\n",
    "            #overlap[2][x][y]+=1\n",
    "            if palet[0][x][y]>r:\n",
    "                r=palet[0][x][y]\n",
    "            if palet[2][x][y]>b:\n",
    "                b=palet[2][x][y]\n",
    "            #pass\n",
    "    #record.write(palet)\n",
    "    for i in range(2*arnum+1):\n",
    "        for j in range(2*arnum+1):\n",
    "            if r!=0:\n",
    "                palet[0][i][j]=palet[0][i][j]/r\n",
    "            if g!=0:\n",
    "                palet[1][i][j]=palet[1][i][j]/g\n",
    "            if b!=0:\n",
    "                palet[2][i][j]=palet[2][i][j]/b\n",
    "    \n",
    "    jetset.append(palet)\n",
    "    if jet.partonId==21:\n",
    "        labels.append(1)\n",
    "        gover=np.add(gover,palet)\n",
    "    else:\n",
    "        labels.append(0)\n",
    "        qover=np.add(qover,palet)\n",
    "    overlap=np.add(overlap,palet)\n",
    "    \n",
    "\n",
    "[r,g,b]=[0,0,0]\n",
    "[gr,gg,gb]=[0,0,0]\n",
    "[qr,qg,qb]=[0,0,0]\n",
    "for i in range(2*arnum+1):\n",
    "        for j in range(2*arnum+1):\n",
    "            if overlap[0][i][j]>r:\n",
    "                r=overlap[1][i][j]\n",
    "            if overlap[1][i][j]>g:\n",
    "                g=overlap[0][i][j]\n",
    "            if overlap[2][i][j]>b:\n",
    "                b=overlap[2][i][j]\n",
    "            if gover[0][i][j]>gr:\n",
    "                gr=gover[1][i][j]\n",
    "            if gover[1][i][j]>gg:\n",
    "                gg=gover[0][i][j]\n",
    "            if gover[2][i][j]>gb:\n",
    "                gb=gover[2][i][j]\n",
    "            if qover[0][i][j]>qr:\n",
    "                qr=gover[1][i][j]\n",
    "            if qover[1][i][j]>qg:\n",
    "                qg=gover[0][i][j]\n",
    "            if qover[2][i][j]>qb:\n",
    "                qb=qover[2][i][j]\n",
    "                \n",
    "for i in range(2*arnum+1):\n",
    "        for j in range(2*arnum+1):\n",
    "            overlap[1][i][j]=overlap[1][i][j]/r\n",
    "            overlap[0][i][j]=overlap[0][i][j]/g\n",
    "            overlap[2][i][j]=overlap[2][i][j]/b\n",
    "            gover[1][i][j]=gover[1][i][j]/gr\n",
    "            gover[0][i][j]=gover[0][i][j]/gg\n",
    "            gover[2][i][j]=gover[2][i][j]/gb\n",
    "            qover[1][i][j]=qover[1][i][j]/qr\n",
    "            qover[0][i][j]=qover[0][i][j]/qg\n",
    "            qover[2][i][j]=qover[2][i][j]/qb\n",
    "labels=np.array(labels)\n",
    "jetset=np.array(jetset)\n",
    "record.close()\n",
    "print datetime.datetime.now()-start"
   ]
  },
  {
   "cell_type": "code",
   "execution_count": 14,
   "metadata": {},
   "outputs": [
    {
     "name": "stdout",
     "output_type": "stream",
     "text": [
      "(84721, 3, 33, 33)\n"
     ]
    }
   ],
   "source": [
    "print jetset.shape"
   ]
  },
  {
   "cell_type": "code",
   "execution_count": 11,
   "metadata": {},
   "outputs": [
    {
     "data": {
      "text/plain": [
       "array([  6.43182137e-04,   8.52476402e-04,   1.02664791e-03,\n",
       "         1.17770197e-03,   1.57757306e-03,   2.23684547e-03,\n",
       "         2.41275784e-03,   3.58962663e-03,   4.85509699e-03,\n",
       "         6.73315648e-03,   9.70779898e-03,   1.49425809e-02,\n",
       "         2.67624231e-02,   5.01838203e-02,   1.14676046e-01,\n",
       "         3.77873585e-01,   1.00000000e+00,   3.89202380e-01,\n",
       "         1.15030653e-01,   5.13896767e-02,   2.78906338e-02,\n",
       "         1.56797485e-02,   1.03836828e-02,   6.66105616e-03,\n",
       "         4.89606815e-03,   3.35681362e-03,   2.89105930e-03,\n",
       "         2.06686018e-03,   1.70404835e-03,   1.47550198e-03,\n",
       "         1.08229306e-03,   1.07219742e-03,   6.26648561e-04])"
      ]
     },
     "execution_count": 11,
     "metadata": {},
     "output_type": "execute_result"
    }
   ],
   "source": [
    "overlap[0][16][:]"
   ]
  },
  {
   "cell_type": "code",
   "execution_count": 4,
   "metadata": {},
   "outputs": [
    {
     "data": {
      "text/plain": [
       "array([ 0.,  0.,  0., ...,  0.,  0.,  0.])"
      ]
     },
     "execution_count": 4,
     "metadata": {},
     "output_type": "execute_result"
    }
   ],
   "source": [
    "np.fromstring(np.ndarray.tostring(palet))\n",
    "\n",
    "jet.GetEntry(10)\n",
    "print jet.partonId, jet.dau_deta[1]"
   ]
  },
  {
   "cell_type": "code",
   "execution_count": 12,
   "metadata": {},
   "outputs": [
    {
     "ename": "NameError",
     "evalue": "name 'mkb' is not defined",
     "output_type": "error",
     "traceback": [
      "\u001b[0;31m\u001b[0m",
      "\u001b[0;31mNameError\u001b[0mTraceback (most recent call last)",
      "\u001b[0;32m<ipython-input-12-ec7ea9a6a37b>\u001b[0m in \u001b[0;36m<module>\u001b[0;34m()\u001b[0m\n\u001b[1;32m      5\u001b[0m         \u001b[0mmk\u001b[0m\u001b[0;34m[\u001b[0m\u001b[0mi\u001b[0m\u001b[0;34m]\u001b[0m\u001b[0;34m[\u001b[0m\u001b[0mj\u001b[0m\u001b[0;34m]\u001b[0m\u001b[0;34m[\u001b[0m\u001b[0;36m1\u001b[0m\u001b[0;34m]\u001b[0m\u001b[0;34m=\u001b[0m\u001b[0moverlap\u001b[0m\u001b[0;34m[\u001b[0m\u001b[0;36m1\u001b[0m\u001b[0;34m]\u001b[0m\u001b[0;34m[\u001b[0m\u001b[0;36m10\u001b[0m\u001b[0;34m+\u001b[0m\u001b[0mi\u001b[0m\u001b[0;34m]\u001b[0m\u001b[0;34m[\u001b[0m\u001b[0;36m10\u001b[0m\u001b[0;34m+\u001b[0m\u001b[0mj\u001b[0m\u001b[0;34m]\u001b[0m\u001b[0;34m\u001b[0m\u001b[0m\n\u001b[1;32m      6\u001b[0m         \u001b[0mmk\u001b[0m\u001b[0;34m[\u001b[0m\u001b[0mi\u001b[0m\u001b[0;34m]\u001b[0m\u001b[0;34m[\u001b[0m\u001b[0mj\u001b[0m\u001b[0;34m]\u001b[0m\u001b[0;34m[\u001b[0m\u001b[0;36m2\u001b[0m\u001b[0;34m]\u001b[0m\u001b[0;34m=\u001b[0m\u001b[0moverlap\u001b[0m\u001b[0;34m[\u001b[0m\u001b[0;36m2\u001b[0m\u001b[0;34m]\u001b[0m\u001b[0;34m[\u001b[0m\u001b[0;36m10\u001b[0m\u001b[0;34m+\u001b[0m\u001b[0mi\u001b[0m\u001b[0;34m]\u001b[0m\u001b[0;34m[\u001b[0m\u001b[0;36m10\u001b[0m\u001b[0;34m+\u001b[0m\u001b[0mj\u001b[0m\u001b[0;34m]\u001b[0m\u001b[0;34m\u001b[0m\u001b[0m\n\u001b[0;32m----> 7\u001b[0;31m \u001b[0mplt\u001b[0m\u001b[0;34m.\u001b[0m\u001b[0mimshow\u001b[0m\u001b[0;34m(\u001b[0m\u001b[0mmkb\u001b[0m\u001b[0;34m,\u001b[0m\u001b[0minterpolation\u001b[0m\u001b[0;34m=\u001b[0m\u001b[0;34m'none'\u001b[0m\u001b[0;34m)\u001b[0m\u001b[0;34m\u001b[0m\u001b[0m\n\u001b[0m",
      "\u001b[0;31mNameError\u001b[0m: name 'mkb' is not defined"
     ]
    }
   ],
   "source": [
    "mk=np.zeros(shape=(10,10,3))\n",
    "for i in range(10):\n",
    "    for j in range(10):\n",
    "        mk[i][j][0]=overlap[0][10+i][10+j]\n",
    "        mk[i][j][1]=overlap[1][10+i][10+j]\n",
    "        mk[i][j][2]=overlap[2][10+i][10+j]\n",
    "plt.imshow(mkb,interpolation='none')"
   ]
  },
  {
   "cell_type": "code",
   "execution_count": 2,
   "metadata": {},
   "outputs": [
    {
     "data": {
      "image/png": "[encoded data removed]",
      "text/plain": [
       "<matplotlib.figure.Figure at 0x7a87490>"
      ]
     },
     "metadata": {},
     "output_type": "display_data"
    },
    {
     "name": "stdout",
     "output_type": "stream",
     "text": [
      "g\n"
     ]
    }
   ],
   "source": [
    "import matplotlib.pyplot as plt\n",
    "%matplotlib inline\n",
    "gbkb=np.swapaxes(gover,0,1)\n",
    "gbkb=np.swapaxes(gbkb,1,2)\n",
    "plt.imshow(gbkb,interpolation='none')\n",
    "print \"g\"\n",
    "plt.show()"
   ]
  },
  {
   "cell_type": "code",
   "execution_count": 3,
   "metadata": {},
   "outputs": [
    {
     "data": {
      "image/png": "[encoded data removed]",
      "text/plain": [
       "<matplotlib.figure.Figure at 0x8926fc10>"
      ]
     },
     "metadata": {},
     "output_type": "display_data"
    },
    {
     "name": "stdout",
     "output_type": "stream",
     "text": [
      "q\n"
     ]
    }
   ],
   "source": [
    "import matplotlib.pyplot as plt\n",
    "%matplotlib inline\n",
    "qbkb=np.swapaxes(qover,0,1)\n",
    "qbkb=np.swapaxes(qbkb,1,2)\n",
    "plt.imshow(qbkb,interpolation='none')\n",
    "print \"q\"\n",
    "plt.show()"
   ]
  },
  {
   "cell_type": "code",
   "execution_count": 4,
   "metadata": {},
   "outputs": [
    {
     "data": {
      "image/png": "[encoded data removed]",
      "text/plain": [
       "<matplotlib.figure.Figure at 0x5f80b10>"
      ]
     },
     "metadata": {},
     "output_type": "display_data"
    },
    {
     "name": "stdout",
     "output_type": "stream",
     "text": [
      "[0 0 0 ..., 1 1 1]\n"
     ]
    }
   ],
   "source": [
    "import matplotlib.pyplot as plt\n",
    "%matplotlib inline\n",
    "bkb=np.swapaxes(overlap,0,1)\n",
    "bkb=np.swapaxes(bkb,1,2)\n",
    "plt.imshow(bkb,interpolation='none')\n",
    "print labels\n",
    "plt.show()"
   ]
  },
  {
   "cell_type": "code",
   "execution_count": 24,
   "metadata": {},
   "outputs": [
    {
     "data": {
      "image/png": "[encoded data removed]",
      "text/plain": [
       "<matplotlib.figure.Figure at 0x202db90>"
      ]
     },
     "metadata": {},
     "output_type": "display_data"
    }
   ],
   "source": [
    "plt.imshow([[[1,1,1],[1,0,0],[1,0,0]],[[1,1,1],[1,0,0],[1,0,0]],[[1,1,1],[1,0,0],[0,1,0]]])\n",
    "plt.show()"
   ]
  },
  {
   "cell_type": "code",
   "execution_count": 22,
   "metadata": {},
   "outputs": [
    {
     "name": "stdout",
     "output_type": "stream",
     "text": [
      "(59304, 3, 33, 33)\n"
     ]
    }
   ],
   "source": [
    "import mxnet as mx\n",
    "import random\n",
    "from sklearn.model_selection import train_test_split\n",
    "from sklearn.metrics import roc_auc_score, auc, precision_recall_curve, roc_curve, average_precision_score\n",
    "batch_size=100\n",
    "data_train, data_test, label_train, label_test = train_test_split(jetset.reshape(len(jetset),3*33*33), labels, test_size=0.3,\n",
    "                                                                    random_state=random.randrange(0,10000))\n",
    "#data_train=data1[:int(len(data1)*0.7)]\n",
    "#data_test=data1[int(len(data1)*0.7):]\n",
    "#label_train=labels[:int(len(labels)*0.7)]\n",
    "#label_test=labels[int(len(labels)*0.7):]\n",
    "data_train=data_train.reshape(len(data_train),3,33,33)\n",
    "data_test=data_test.reshape(len(data_test),3,33,33)\n",
    "print data_train.shape\n",
    "train_iter = mx.io.NDArrayIter(data_train, label_train, batch_size, shuffle=False)\n",
    "val_iter = mx.io.NDArrayIter(data_test, label_test, batch_size)\n",
    "\n",
    "data = mx.sym.var('data')\n",
    "# first conv layer\n",
    "conv1 = mx.sym.Convolution(data=data, kernel=(5,5), num_filter=20)\n",
    "tanh1 = mx.sym.Activation(data=conv1, act_type=\"relu\")\n",
    "pool1 = mx.sym.Pooling(data=tanh1, pool_type=\"max\", kernel=(2,2), stride=(2,2))\n",
    "# second conv layer\n",
    "conv2 = mx.sym.Convolution(data=pool1, kernel=(5,5), num_filter=50)\n",
    "tanh2 = mx.sym.Activation(data=conv2, act_type=\"relu\")\n",
    "pool2 = mx.sym.Pooling(data=tanh2, pool_type=\"max\", kernel=(2,2), stride=(2,2))\n",
    "# first fullc layer\n",
    "flatten = mx.sym.flatten(data=pool2)\n",
    "fc1 = mx.symbol.FullyConnected(data=flatten, num_hidden=500)\n",
    "tanh3 = mx.sym.Activation(data=fc1, act_type=\"relu\")\n",
    "# second fullc\n",
    "fc2 = mx.sym.FullyConnected(data=tanh3, num_hidden=2)\n",
    "# softmax loss\n",
    "lenet = mx.sym.SoftmaxOutput(data=fc2, name='softmax')\n",
    "#mx.viz.plot_network(lenet)"
   ]
  },
  {
   "cell_type": "code",
   "execution_count": 23,
   "metadata": {},
   "outputs": [
    {
     "data": {
      "image/svg+xml": [
       "<?xml version=\"1.0\" encoding=\"UTF-8\" standalone=\"no\"?>\n",
       "<!DOCTYPE svg PUBLIC \"-//W3C//DTD SVG 1.1//EN\"\n",
       " \"http://www.w3.org/Graphics/SVG/1.1/DTD/svg11.dtd\">\n",
       "<!-- Generated by graphviz version 2.30.1 (20150306.0020)\n",
       " -->\n",
       "<!-- Title: plot Pages: 1 -->\n",
       "<svg width=\"214pt\" height=\"2266pt\"\n",
       " viewBox=\"0.00 0.00 214.00 2266.00\" xmlns=\"http://www.w3.org/2000/svg\" xmlns:xlink=\"http://www.w3.org/1999/xlink\">\n",
       "<g id=\"graph0\" class=\"graph\" transform=\"scale(1 1) rotate(0) translate(4 2262)\">\n",
       "<title>plot</title>\n",
       "<polygon fill=\"white\" stroke=\"white\" points=\"-4,5 -4,-2262 211,-2262 211,5 -4,5\"/>\n",
       "<!-- data -->\n",
       "<g id=\"node1\" class=\"node\"><title>data</title>\n",
       "<ellipse fill=\"#8dd3c7\" stroke=\"black\" cx=\"47\" cy=\"-29\" rx=\"47\" ry=\"29\"/>\n",
       "<text text-anchor=\"middle\" x=\"47\" y=\"-25.3\" font-family=\"Times,serif\" font-size=\"14.00\">data</text>\n",
       "</g>\n",
       "<!-- convolution22 -->\n",
       "<g id=\"node2\" class=\"node\"><title>convolution22</title>\n",
       "<polygon fill=\"#fb8072\" stroke=\"black\" points=\"94,-168 -7.10543e-15,-168 -7.10543e-15,-110 94,-110 94,-168\"/>\n",
       "<text text-anchor=\"middle\" x=\"47\" y=\"-142.8\" font-family=\"Times,serif\" font-size=\"14.00\">Convolution</text>\n",
       "<text text-anchor=\"middle\" x=\"47\" y=\"-127.8\" font-family=\"Times,serif\" font-size=\"14.00\">3x3/1, 64</text>\n",
       "</g>\n",
       "<!-- convolution22&#45;&gt;data -->\n",
       "<g id=\"edge1\" class=\"edge\"><title>convolution22&#45;&gt;data</title>\n",
       "<path fill=\"none\" stroke=\"black\" d=\"M47,-99.8131C47,-86.1516 47,-71.0092 47,-58.3283\"/>\n",
       "<polygon fill=\"black\" stroke=\"black\" points=\"47,-109.906 42.5001,-99.9062 47,-104.906 47.0001,-99.9062 47.0001,-99.9062 47.0001,-99.9062 47,-104.906 51.5001,-99.9062 47,-109.906 47,-109.906\"/>\n",
       "<text text-anchor=\"middle\" x=\"71\" y=\"-80.3\" font-family=\"Times,serif\" font-size=\"14.00\">3x33x33</text>\n",
       "</g>\n",
       "<!-- activation33 -->\n",
       "<g id=\"node3\" class=\"node\"><title>activation33</title>\n",
       "<polygon fill=\"#ffffb3\" stroke=\"black\" points=\"94,-278 -7.10543e-15,-278 -7.10543e-15,-220 94,-220 94,-278\"/>\n",
       "<text text-anchor=\"middle\" x=\"47\" y=\"-252.8\" font-family=\"Times,serif\" font-size=\"14.00\">Activation</text>\n",
       "<text text-anchor=\"middle\" x=\"47\" y=\"-237.8\" font-family=\"Times,serif\" font-size=\"14.00\">relu</text>\n",
       "</g>\n",
       "<!-- activation33&#45;&gt;convolution22 -->\n",
       "<g id=\"edge2\" class=\"edge\"><title>activation33&#45;&gt;convolution22</title>\n",
       "<path fill=\"none\" stroke=\"black\" d=\"M47,-209.813C47,-196.152 47,-181.009 47,-168.328\"/>\n",
       "<polygon fill=\"black\" stroke=\"black\" points=\"47,-219.906 42.5001,-209.906 47,-214.906 47.0001,-209.906 47.0001,-209.906 47.0001,-209.906 47,-214.906 51.5001,-209.906 47,-219.906 47,-219.906\"/>\n",
       "<text text-anchor=\"middle\" x=\"74.5\" y=\"-190.3\" font-family=\"Times,serif\" font-size=\"14.00\">64x33x33</text>\n",
       "</g>\n",
       "<!-- pooling18 -->\n",
       "<g id=\"node4\" class=\"node\"><title>pooling18</title>\n",
       "<polygon fill=\"#80b1d3\" stroke=\"black\" points=\"94,-388 -7.10543e-15,-388 -7.10543e-15,-330 94,-330 94,-388\"/>\n",
       "<text text-anchor=\"middle\" x=\"47\" y=\"-362.8\" font-family=\"Times,serif\" font-size=\"14.00\">Pooling</text>\n",
       "<text text-anchor=\"middle\" x=\"47\" y=\"-347.8\" font-family=\"Times,serif\" font-size=\"14.00\">max, 2x2/2x2</text>\n",
       "</g>\n",
       "<!-- pooling18&#45;&gt;activation33 -->\n",
       "<g id=\"edge3\" class=\"edge\"><title>pooling18&#45;&gt;activation33</title>\n",
       "<path fill=\"none\" stroke=\"black\" d=\"M47,-319.813C47,-306.152 47,-291.009 47,-278.328\"/>\n",
       "<polygon fill=\"black\" stroke=\"black\" points=\"47,-329.906 42.5001,-319.906 47,-324.906 47.0001,-319.906 47.0001,-319.906 47.0001,-319.906 47,-324.906 51.5001,-319.906 47,-329.906 47,-329.906\"/>\n",
       "<text text-anchor=\"middle\" x=\"74.5\" y=\"-300.3\" font-family=\"Times,serif\" font-size=\"14.00\">64x33x33</text>\n",
       "</g>\n",
       "<!-- convolution23 -->\n",
       "<g id=\"node5\" class=\"node\"><title>convolution23</title>\n",
       "<polygon fill=\"#fb8072\" stroke=\"black\" points=\"94,-498 -7.10543e-15,-498 -7.10543e-15,-440 94,-440 94,-498\"/>\n",
       "<text text-anchor=\"middle\" x=\"47\" y=\"-472.8\" font-family=\"Times,serif\" font-size=\"14.00\">Convolution</text>\n",
       "<text text-anchor=\"middle\" x=\"47\" y=\"-457.8\" font-family=\"Times,serif\" font-size=\"14.00\">3x3/1, 128</text>\n",
       "</g>\n",
       "<!-- convolution23&#45;&gt;pooling18 -->\n",
       "<g id=\"edge4\" class=\"edge\"><title>convolution23&#45;&gt;pooling18</title>\n",
       "<path fill=\"none\" stroke=\"black\" d=\"M47,-429.813C47,-416.152 47,-401.009 47,-388.328\"/>\n",
       "<polygon fill=\"black\" stroke=\"black\" points=\"47,-439.906 42.5001,-429.906 47,-434.906 47.0001,-429.906 47.0001,-429.906 47.0001,-429.906 47,-434.906 51.5001,-429.906 47,-439.906 47,-439.906\"/>\n",
       "<text text-anchor=\"middle\" x=\"74.5\" y=\"-410.3\" font-family=\"Times,serif\" font-size=\"14.00\">64x16x16</text>\n",
       "</g>\n",
       "<!-- activation34 -->\n",
       "<g id=\"node6\" class=\"node\"><title>activation34</title>\n",
       "<polygon fill=\"#ffffb3\" stroke=\"black\" points=\"94,-608 -7.10543e-15,-608 -7.10543e-15,-550 94,-550 94,-608\"/>\n",
       "<text text-anchor=\"middle\" x=\"47\" y=\"-582.8\" font-family=\"Times,serif\" font-size=\"14.00\">Activation</text>\n",
       "<text text-anchor=\"middle\" x=\"47\" y=\"-567.8\" font-family=\"Times,serif\" font-size=\"14.00\">relu</text>\n",
       "</g>\n",
       "<!-- activation34&#45;&gt;convolution23 -->\n",
       "<g id=\"edge5\" class=\"edge\"><title>activation34&#45;&gt;convolution23</title>\n",
       "<path fill=\"none\" stroke=\"black\" d=\"M47,-539.813C47,-526.152 47,-511.009 47,-498.328\"/>\n",
       "<polygon fill=\"black\" stroke=\"black\" points=\"47,-549.906 42.5001,-539.906 47,-544.906 47.0001,-539.906 47.0001,-539.906 47.0001,-539.906 47,-544.906 51.5001,-539.906 47,-549.906 47,-549.906\"/>\n",
       "<text text-anchor=\"middle\" x=\"77.5\" y=\"-520.3\" font-family=\"Times,serif\" font-size=\"14.00\">128x16x16</text>\n",
       "</g>\n",
       "<!-- pooling19 -->\n",
       "<g id=\"node7\" class=\"node\"><title>pooling19</title>\n",
       "<polygon fill=\"#80b1d3\" stroke=\"black\" points=\"94,-718 -7.10543e-15,-718 -7.10543e-15,-660 94,-660 94,-718\"/>\n",
       "<text text-anchor=\"middle\" x=\"47\" y=\"-692.8\" font-family=\"Times,serif\" font-size=\"14.00\">Pooling</text>\n",
       "<text text-anchor=\"middle\" x=\"47\" y=\"-677.8\" font-family=\"Times,serif\" font-size=\"14.00\">max, 2x2/2x2</text>\n",
       "</g>\n",
       "<!-- pooling19&#45;&gt;activation34 -->\n",
       "<g id=\"edge6\" class=\"edge\"><title>pooling19&#45;&gt;activation34</title>\n",
       "<path fill=\"none\" stroke=\"black\" d=\"M47,-649.813C47,-636.152 47,-621.009 47,-608.328\"/>\n",
       "<polygon fill=\"black\" stroke=\"black\" points=\"47,-659.906 42.5001,-649.906 47,-654.906 47.0001,-649.906 47.0001,-649.906 47.0001,-649.906 47,-654.906 51.5001,-649.906 47,-659.906 47,-659.906\"/>\n",
       "<text text-anchor=\"middle\" x=\"77.5\" y=\"-630.3\" font-family=\"Times,serif\" font-size=\"14.00\">128x16x16</text>\n",
       "</g>\n",
       "<!-- convolution24 -->\n",
       "<g id=\"node8\" class=\"node\"><title>convolution24</title>\n",
       "<polygon fill=\"#fb8072\" stroke=\"black\" points=\"94,-828 -7.10543e-15,-828 -7.10543e-15,-770 94,-770 94,-828\"/>\n",
       "<text text-anchor=\"middle\" x=\"47\" y=\"-802.8\" font-family=\"Times,serif\" font-size=\"14.00\">Convolution</text>\n",
       "<text text-anchor=\"middle\" x=\"47\" y=\"-787.8\" font-family=\"Times,serif\" font-size=\"14.00\">3x3/1, 256</text>\n",
       "</g>\n",
       "<!-- convolution24&#45;&gt;pooling19 -->\n",
       "<g id=\"edge7\" class=\"edge\"><title>convolution24&#45;&gt;pooling19</title>\n",
       "<path fill=\"none\" stroke=\"black\" d=\"M47,-759.813C47,-746.152 47,-731.009 47,-718.328\"/>\n",
       "<polygon fill=\"black\" stroke=\"black\" points=\"47,-769.906 42.5001,-759.906 47,-764.906 47.0001,-759.906 47.0001,-759.906 47.0001,-759.906 47,-764.906 51.5001,-759.906 47,-769.906 47,-769.906\"/>\n",
       "<text text-anchor=\"middle\" x=\"71\" y=\"-740.3\" font-family=\"Times,serif\" font-size=\"14.00\">128x8x8</text>\n",
       "</g>\n",
       "<!-- activation35 -->\n",
       "<g id=\"node9\" class=\"node\"><title>activation35</title>\n",
       "<polygon fill=\"#ffffb3\" stroke=\"black\" points=\"94,-938 -7.10543e-15,-938 -7.10543e-15,-880 94,-880 94,-938\"/>\n",
       "<text text-anchor=\"middle\" x=\"47\" y=\"-912.8\" font-family=\"Times,serif\" font-size=\"14.00\">Activation</text>\n",
       "<text text-anchor=\"middle\" x=\"47\" y=\"-897.8\" font-family=\"Times,serif\" font-size=\"14.00\">relu</text>\n",
       "</g>\n",
       "<!-- activation35&#45;&gt;convolution24 -->\n",
       "<g id=\"edge8\" class=\"edge\"><title>activation35&#45;&gt;convolution24</title>\n",
       "<path fill=\"none\" stroke=\"black\" d=\"M47,-869.813C47,-856.152 47,-841.009 47,-828.328\"/>\n",
       "<polygon fill=\"black\" stroke=\"black\" points=\"47,-879.906 42.5001,-869.906 47,-874.906 47.0001,-869.906 47.0001,-869.906 47.0001,-869.906 47,-874.906 51.5001,-869.906 47,-879.906 47,-879.906\"/>\n",
       "<text text-anchor=\"middle\" x=\"71\" y=\"-850.3\" font-family=\"Times,serif\" font-size=\"14.00\">256x8x8</text>\n",
       "</g>\n",
       "<!-- convolution25 -->\n",
       "<g id=\"node10\" class=\"node\"><title>convolution25</title>\n",
       "<polygon fill=\"#fb8072\" stroke=\"black\" points=\"94,-1048 -7.10543e-15,-1048 -7.10543e-15,-990 94,-990 94,-1048\"/>\n",
       "<text text-anchor=\"middle\" x=\"47\" y=\"-1022.8\" font-family=\"Times,serif\" font-size=\"14.00\">Convolution</text>\n",
       "<text text-anchor=\"middle\" x=\"47\" y=\"-1007.8\" font-family=\"Times,serif\" font-size=\"14.00\">3x3/1, 256</text>\n",
       "</g>\n",
       "<!-- convolution25&#45;&gt;activation35 -->\n",
       "<g id=\"edge9\" class=\"edge\"><title>convolution25&#45;&gt;activation35</title>\n",
       "<path fill=\"none\" stroke=\"black\" d=\"M47,-979.813C47,-966.152 47,-951.009 47,-938.328\"/>\n",
       "<polygon fill=\"black\" stroke=\"black\" points=\"47,-989.906 42.5001,-979.906 47,-984.906 47.0001,-979.906 47.0001,-979.906 47.0001,-979.906 47,-984.906 51.5001,-979.906 47,-989.906 47,-989.906\"/>\n",
       "<text text-anchor=\"middle\" x=\"71\" y=\"-960.3\" font-family=\"Times,serif\" font-size=\"14.00\">256x8x8</text>\n",
       "</g>\n",
       "<!-- activation36 -->\n",
       "<g id=\"node11\" class=\"node\"><title>activation36</title>\n",
       "<polygon fill=\"#ffffb3\" stroke=\"black\" points=\"94,-1158 -7.10543e-15,-1158 -7.10543e-15,-1100 94,-1100 94,-1158\"/>\n",
       "<text text-anchor=\"middle\" x=\"47\" y=\"-1132.8\" font-family=\"Times,serif\" font-size=\"14.00\">Activation</text>\n",
       "<text text-anchor=\"middle\" x=\"47\" y=\"-1117.8\" font-family=\"Times,serif\" font-size=\"14.00\">relu</text>\n",
       "</g>\n",
       "<!-- activation36&#45;&gt;convolution25 -->\n",
       "<g id=\"edge10\" class=\"edge\"><title>activation36&#45;&gt;convolution25</title>\n",
       "<path fill=\"none\" stroke=\"black\" d=\"M47,-1089.81C47,-1076.15 47,-1061.01 47,-1048.33\"/>\n",
       "<polygon fill=\"black\" stroke=\"black\" points=\"47,-1099.91 42.5001,-1089.91 47,-1094.91 47.0001,-1089.91 47.0001,-1089.91 47.0001,-1089.91 47,-1094.91 51.5001,-1089.91 47,-1099.91 47,-1099.91\"/>\n",
       "<text text-anchor=\"middle\" x=\"71\" y=\"-1070.3\" font-family=\"Times,serif\" font-size=\"14.00\">256x8x8</text>\n",
       "</g>\n",
       "<!-- pooling20 -->\n",
       "<g id=\"node12\" class=\"node\"><title>pooling20</title>\n",
       "<polygon fill=\"#80b1d3\" stroke=\"black\" points=\"94,-1268 -7.10543e-15,-1268 -7.10543e-15,-1210 94,-1210 94,-1268\"/>\n",
       "<text text-anchor=\"middle\" x=\"47\" y=\"-1242.8\" font-family=\"Times,serif\" font-size=\"14.00\">Pooling</text>\n",
       "<text text-anchor=\"middle\" x=\"47\" y=\"-1227.8\" font-family=\"Times,serif\" font-size=\"14.00\">max, 2x2/2x2</text>\n",
       "</g>\n",
       "<!-- pooling20&#45;&gt;activation36 -->\n",
       "<g id=\"edge11\" class=\"edge\"><title>pooling20&#45;&gt;activation36</title>\n",
       "<path fill=\"none\" stroke=\"black\" d=\"M47,-1199.81C47,-1186.15 47,-1171.01 47,-1158.33\"/>\n",
       "<polygon fill=\"black\" stroke=\"black\" points=\"47,-1209.91 42.5001,-1199.91 47,-1204.91 47.0001,-1199.91 47.0001,-1199.91 47.0001,-1199.91 47,-1204.91 51.5001,-1199.91 47,-1209.91 47,-1209.91\"/>\n",
       "<text text-anchor=\"middle\" x=\"71\" y=\"-1180.3\" font-family=\"Times,serif\" font-size=\"14.00\">256x8x8</text>\n",
       "</g>\n",
       "<!-- flatten7 -->\n",
       "<g id=\"node13\" class=\"node\"><title>flatten7</title>\n",
       "<polygon fill=\"#fdb462\" stroke=\"black\" points=\"94,-1378 -7.10543e-15,-1378 -7.10543e-15,-1320 94,-1320 94,-1378\"/>\n",
       "<text text-anchor=\"middle\" x=\"47\" y=\"-1345.3\" font-family=\"Times,serif\" font-size=\"14.00\">flatten7</text>\n",
       "</g>\n",
       "<!-- flatten7&#45;&gt;pooling20 -->\n",
       "<g id=\"edge12\" class=\"edge\"><title>flatten7&#45;&gt;pooling20</title>\n",
       "<path fill=\"none\" stroke=\"black\" d=\"M47,-1309.81C47,-1296.15 47,-1281.01 47,-1268.33\"/>\n",
       "<polygon fill=\"black\" stroke=\"black\" points=\"47,-1319.91 42.5001,-1309.91 47,-1314.91 47.0001,-1309.91 47.0001,-1309.91 47.0001,-1309.91 47,-1314.91 51.5001,-1309.91 47,-1319.91 47,-1319.91\"/>\n",
       "<text text-anchor=\"middle\" x=\"71\" y=\"-1290.3\" font-family=\"Times,serif\" font-size=\"14.00\">256x4x4</text>\n",
       "</g>\n",
       "<!-- fullyconnected18 -->\n",
       "<g id=\"node14\" class=\"node\"><title>fullyconnected18</title>\n",
       "<polygon fill=\"#fb8072\" stroke=\"black\" points=\"94,-1488 -7.10543e-15,-1488 -7.10543e-15,-1430 94,-1430 94,-1488\"/>\n",
       "<text text-anchor=\"middle\" x=\"47\" y=\"-1462.8\" font-family=\"Times,serif\" font-size=\"14.00\">FullyConnected</text>\n",
       "<text text-anchor=\"middle\" x=\"47\" y=\"-1447.8\" font-family=\"Times,serif\" font-size=\"14.00\">4096</text>\n",
       "</g>\n",
       "<!-- fullyconnected18&#45;&gt;flatten7 -->\n",
       "<g id=\"edge13\" class=\"edge\"><title>fullyconnected18&#45;&gt;flatten7</title>\n",
       "<path fill=\"none\" stroke=\"black\" d=\"M47,-1419.81C47,-1406.15 47,-1391.01 47,-1378.33\"/>\n",
       "<polygon fill=\"black\" stroke=\"black\" points=\"47,-1429.91 42.5001,-1419.91 47,-1424.91 47.0001,-1419.91 47.0001,-1419.91 47.0001,-1419.91 47,-1424.91 51.5001,-1419.91 47,-1429.91 47,-1429.91\"/>\n",
       "<text text-anchor=\"middle\" x=\"61\" y=\"-1400.3\" font-family=\"Times,serif\" font-size=\"14.00\">4096</text>\n",
       "</g>\n",
       "<!-- activation37 -->\n",
       "<g id=\"node15\" class=\"node\"><title>activation37</title>\n",
       "<polygon fill=\"#ffffb3\" stroke=\"black\" points=\"94,-1598 -7.10543e-15,-1598 -7.10543e-15,-1540 94,-1540 94,-1598\"/>\n",
       "<text text-anchor=\"middle\" x=\"47\" y=\"-1572.8\" font-family=\"Times,serif\" font-size=\"14.00\">Activation</text>\n",
       "<text text-anchor=\"middle\" x=\"47\" y=\"-1557.8\" font-family=\"Times,serif\" font-size=\"14.00\">relu</text>\n",
       "</g>\n",
       "<!-- activation37&#45;&gt;fullyconnected18 -->\n",
       "<g id=\"edge14\" class=\"edge\"><title>activation37&#45;&gt;fullyconnected18</title>\n",
       "<path fill=\"none\" stroke=\"black\" d=\"M47,-1529.81C47,-1516.15 47,-1501.01 47,-1488.33\"/>\n",
       "<polygon fill=\"black\" stroke=\"black\" points=\"47,-1539.91 42.5001,-1529.91 47,-1534.91 47.0001,-1529.91 47.0001,-1529.91 47.0001,-1529.91 47,-1534.91 51.5001,-1529.91 47,-1539.91 47,-1539.91\"/>\n",
       "<text text-anchor=\"middle\" x=\"61\" y=\"-1510.3\" font-family=\"Times,serif\" font-size=\"14.00\">4096</text>\n",
       "</g>\n",
       "<!-- dropout8 -->\n",
       "<g id=\"node16\" class=\"node\"><title>dropout8</title>\n",
       "<polygon fill=\"#fccde5\" stroke=\"black\" points=\"94,-1708 -7.10543e-15,-1708 -7.10543e-15,-1650 94,-1650 94,-1708\"/>\n",
       "<text text-anchor=\"middle\" x=\"47\" y=\"-1675.3\" font-family=\"Times,serif\" font-size=\"14.00\">dropout8</text>\n",
       "</g>\n",
       "<!-- dropout8&#45;&gt;activation37 -->\n",
       "<g id=\"edge15\" class=\"edge\"><title>dropout8&#45;&gt;activation37</title>\n",
       "<path fill=\"none\" stroke=\"black\" d=\"M47,-1639.81C47,-1626.15 47,-1611.01 47,-1598.33\"/>\n",
       "<polygon fill=\"black\" stroke=\"black\" points=\"47,-1649.91 42.5001,-1639.91 47,-1644.91 47.0001,-1639.91 47.0001,-1639.91 47.0001,-1639.91 47,-1644.91 51.5001,-1639.91 47,-1649.91 47,-1649.91\"/>\n",
       "<text text-anchor=\"middle\" x=\"61\" y=\"-1620.3\" font-family=\"Times,serif\" font-size=\"14.00\">4096</text>\n",
       "</g>\n",
       "<!-- fullyconnected19 -->\n",
       "<g id=\"node17\" class=\"node\"><title>fullyconnected19</title>\n",
       "<polygon fill=\"#fb8072\" stroke=\"black\" points=\"94,-1818 -7.10543e-15,-1818 -7.10543e-15,-1760 94,-1760 94,-1818\"/>\n",
       "<text text-anchor=\"middle\" x=\"47\" y=\"-1792.8\" font-family=\"Times,serif\" font-size=\"14.00\">FullyConnected</text>\n",
       "<text text-anchor=\"middle\" x=\"47\" y=\"-1777.8\" font-family=\"Times,serif\" font-size=\"14.00\">4096</text>\n",
       "</g>\n",
       "<!-- fullyconnected19&#45;&gt;dropout8 -->\n",
       "<g id=\"edge16\" class=\"edge\"><title>fullyconnected19&#45;&gt;dropout8</title>\n",
       "<path fill=\"none\" stroke=\"black\" d=\"M47,-1749.81C47,-1736.15 47,-1721.01 47,-1708.33\"/>\n",
       "<polygon fill=\"black\" stroke=\"black\" points=\"47,-1759.91 42.5001,-1749.91 47,-1754.91 47.0001,-1749.91 47.0001,-1749.91 47.0001,-1749.91 47,-1754.91 51.5001,-1749.91 47,-1759.91 47,-1759.91\"/>\n",
       "<text text-anchor=\"middle\" x=\"61\" y=\"-1730.3\" font-family=\"Times,serif\" font-size=\"14.00\">4096</text>\n",
       "</g>\n",
       "<!-- activation38 -->\n",
       "<g id=\"node18\" class=\"node\"><title>activation38</title>\n",
       "<polygon fill=\"#ffffb3\" stroke=\"black\" points=\"94,-1928 -7.10543e-15,-1928 -7.10543e-15,-1870 94,-1870 94,-1928\"/>\n",
       "<text text-anchor=\"middle\" x=\"47\" y=\"-1902.8\" font-family=\"Times,serif\" font-size=\"14.00\">Activation</text>\n",
       "<text text-anchor=\"middle\" x=\"47\" y=\"-1887.8\" font-family=\"Times,serif\" font-size=\"14.00\">relu</text>\n",
       "</g>\n",
       "<!-- activation38&#45;&gt;fullyconnected19 -->\n",
       "<g id=\"edge17\" class=\"edge\"><title>activation38&#45;&gt;fullyconnected19</title>\n",
       "<path fill=\"none\" stroke=\"black\" d=\"M47,-1859.81C47,-1846.15 47,-1831.01 47,-1818.33\"/>\n",
       "<polygon fill=\"black\" stroke=\"black\" points=\"47,-1869.91 42.5001,-1859.91 47,-1864.91 47.0001,-1859.91 47.0001,-1859.91 47.0001,-1859.91 47,-1864.91 51.5001,-1859.91 47,-1869.91 47,-1869.91\"/>\n",
       "<text text-anchor=\"middle\" x=\"61\" y=\"-1840.3\" font-family=\"Times,serif\" font-size=\"14.00\">4096</text>\n",
       "</g>\n",
       "<!-- dropout9 -->\n",
       "<g id=\"node19\" class=\"node\"><title>dropout9</title>\n",
       "<polygon fill=\"#fccde5\" stroke=\"black\" points=\"94,-2038 -7.10543e-15,-2038 -7.10543e-15,-1980 94,-1980 94,-2038\"/>\n",
       "<text text-anchor=\"middle\" x=\"47\" y=\"-2005.3\" font-family=\"Times,serif\" font-size=\"14.00\">dropout9</text>\n",
       "</g>\n",
       "<!-- dropout9&#45;&gt;activation38 -->\n",
       "<g id=\"edge18\" class=\"edge\"><title>dropout9&#45;&gt;activation38</title>\n",
       "<path fill=\"none\" stroke=\"black\" d=\"M47,-1969.81C47,-1956.15 47,-1941.01 47,-1928.33\"/>\n",
       "<polygon fill=\"black\" stroke=\"black\" points=\"47,-1979.91 42.5001,-1969.91 47,-1974.91 47.0001,-1969.91 47.0001,-1969.91 47.0001,-1969.91 47,-1974.91 51.5001,-1969.91 47,-1979.91 47,-1979.91\"/>\n",
       "<text text-anchor=\"middle\" x=\"61\" y=\"-1950.3\" font-family=\"Times,serif\" font-size=\"14.00\">4096</text>\n",
       "</g>\n",
       "<!-- fullyconnected20 -->\n",
       "<g id=\"node20\" class=\"node\"><title>fullyconnected20</title>\n",
       "<polygon fill=\"#fb8072\" stroke=\"black\" points=\"94,-2148 -7.10543e-15,-2148 -7.10543e-15,-2090 94,-2090 94,-2148\"/>\n",
       "<text text-anchor=\"middle\" x=\"47\" y=\"-2122.8\" font-family=\"Times,serif\" font-size=\"14.00\">FullyConnected</text>\n",
       "<text text-anchor=\"middle\" x=\"47\" y=\"-2107.8\" font-family=\"Times,serif\" font-size=\"14.00\">2</text>\n",
       "</g>\n",
       "<!-- fullyconnected20&#45;&gt;dropout9 -->\n",
       "<g id=\"edge19\" class=\"edge\"><title>fullyconnected20&#45;&gt;dropout9</title>\n",
       "<path fill=\"none\" stroke=\"black\" d=\"M47,-2079.81C47,-2066.15 47,-2051.01 47,-2038.33\"/>\n",
       "<polygon fill=\"black\" stroke=\"black\" points=\"47,-2089.91 42.5001,-2079.91 47,-2084.91 47.0001,-2079.91 47.0001,-2079.91 47.0001,-2079.91 47,-2084.91 51.5001,-2079.91 47,-2089.91 47,-2089.91\"/>\n",
       "<text text-anchor=\"middle\" x=\"61\" y=\"-2060.3\" font-family=\"Times,serif\" font-size=\"14.00\">4096</text>\n",
       "</g>\n",
       "<!-- softmax_label -->\n",
       "<g id=\"node21\" class=\"node\"><title>softmax_label</title>\n",
       "<ellipse fill=\"#8dd3c7\" stroke=\"black\" cx=\"159\" cy=\"-2119\" rx=\"47\" ry=\"29\"/>\n",
       "<text text-anchor=\"middle\" x=\"159\" y=\"-2115.3\" font-family=\"Times,serif\" font-size=\"14.00\">softmax_label</text>\n",
       "</g>\n",
       "<!-- softmax -->\n",
       "<g id=\"node22\" class=\"node\"><title>softmax</title>\n",
       "<polygon fill=\"#fccde5\" stroke=\"black\" points=\"172,-2258 78,-2258 78,-2200 172,-2200 172,-2258\"/>\n",
       "<text text-anchor=\"middle\" x=\"125\" y=\"-2225.3\" font-family=\"Times,serif\" font-size=\"14.00\">softmax</text>\n",
       "</g>\n",
       "<!-- softmax&#45;&gt;fullyconnected20 -->\n",
       "<g id=\"edge20\" class=\"edge\"><title>softmax&#45;&gt;fullyconnected20</title>\n",
       "<path fill=\"none\" stroke=\"black\" d=\"M98.5763,-2191.41C88.4144,-2177.34 76.9769,-2161.51 67.4593,-2148.33\"/>\n",
       "<polygon fill=\"black\" stroke=\"black\" points=\"104.71,-2199.91 95.207,-2194.43 101.783,-2195.85 98.8551,-2191.8 98.8551,-2191.8 98.8551,-2191.8 101.783,-2195.85 102.503,-2189.16 104.71,-2199.91 104.71,-2199.91\"/>\n",
       "<text text-anchor=\"middle\" x=\"94.5\" y=\"-2170.3\" font-family=\"Times,serif\" font-size=\"14.00\">2</text>\n",
       "</g>\n",
       "<!-- softmax&#45;&gt;softmax_label -->\n",
       "<g id=\"edge21\" class=\"edge\"><title>softmax&#45;&gt;softmax_label</title>\n",
       "<path fill=\"none\" stroke=\"black\" d=\"M136.945,-2190.06C141.351,-2176.06 146.255,-2160.48 150.318,-2147.58\"/>\n",
       "<polygon fill=\"black\" stroke=\"black\" points=\"133.844,-2199.91 132.555,-2189.02 135.346,-2195.14 136.847,-2190.37 136.847,-2190.37 136.847,-2190.37 135.346,-2195.14 141.14,-2191.72 133.844,-2199.91 133.844,-2199.91\"/>\n",
       "</g>\n",
       "</g>\n",
       "</svg>\n"
      ],
      "text/plain": [
       "<graphviz.dot.Digraph at 0x8e214490>"
      ]
     },
     "execution_count": 23,
     "metadata": {},
     "output_type": "execute_result"
    }
   ],
   "source": [
    "import mxnet as mx\n",
    "data=mx.sym.var('data')\n",
    "conv1 = mx.sym.Convolution(data=data, kernel=(3,3),pad=(1,1), num_filter=64)\n",
    "relu1 = mx.sym.Activation(data=conv1, act_type=\"relu\")\n",
    "pool1 = mx.sym.Pooling(data=relu1, pool_type=\"max\", kernel=(2,2), stride=(2,2))\n",
    "conv2 = mx.sym.Convolution(data=pool1, kernel=(3,3),pad=(1,1), num_filter=128)\n",
    "relu2 = mx.sym.Activation(data=conv2, act_type=\"relu\")\n",
    "pool2 = mx.sym.Pooling(data=relu2, pool_type=\"max\", kernel=(2,2), stride=(2,2))\n",
    "conv3 = mx.sym.Convolution(data=pool2, kernel=(3,3),pad=(1,1), num_filter=256)\n",
    "relu3 = mx.sym.Activation(data=conv3, act_type=\"relu\")\n",
    "conv4 = mx.sym.Convolution(data=relu3, kernel=(3,3),pad=(1,1), num_filter=256)\n",
    "relu4 = mx.sym.Activation(data=conv4, act_type=\"relu\")\n",
    "pool3 = mx.sym.Pooling(data=relu4, pool_type=\"max\", kernel=(2,2), stride=(2,2))\n",
    "flatten = mx.sym.flatten(data=pool3)\n",
    "fc1 = mx.symbol.FullyConnected(data=flatten, num_hidden=4096)\n",
    "relu9 = mx.sym.Activation(data=fc1, act_type=\"relu\")\n",
    "drop1=mx.sym.Dropout(data=relu9)\n",
    "fc2 = mx.symbol.FullyConnected(data=drop1, num_hidden=4096)\n",
    "relu10 = mx.sym.Activation(data=fc2, act_type=\"relu\")\n",
    "drop2=mx.sym.Dropout(data=relu10)\n",
    "fc3 = mx.symbol.FullyConnected(data=drop2, num_hidden=2)\n",
    "vggnet=mx.sym.SoftmaxOutput(data=fc3, name='softmax')\n",
    "mx.viz.plot_network(vggnet,shape={\"data\":(1,3,33,33)})"
   ]
  },
  {
   "cell_type": "code",
   "execution_count": 24,
   "metadata": {},
   "outputs": [
    {
     "name": "stderr",
     "output_type": "stream",
     "text": [
      "INFO:root:Epoch[0] Train-accuracy=0.571515\n",
      "INFO:root:Epoch[0] Time cost=9.174\n",
      "INFO:root:Epoch[0] Validation-accuracy=0.567059\n",
      "INFO:root:Epoch[1] Train-accuracy=0.577424\n",
      "INFO:root:Epoch[1] Time cost=8.994\n",
      "INFO:root:Epoch[1] Validation-accuracy=0.567059\n",
      "INFO:root:Epoch[2] Train-accuracy=0.571970\n",
      "INFO:root:Epoch[2] Time cost=9.252\n",
      "INFO:root:Epoch[2] Validation-accuracy=0.567059\n",
      "INFO:root:Epoch[3] Train-accuracy=0.629259\n",
      "INFO:root:Epoch[3] Time cost=9.258\n",
      "INFO:root:Epoch[3] Validation-accuracy=0.666980\n",
      "INFO:root:Epoch[4] Train-accuracy=0.667104\n",
      "INFO:root:Epoch[4] Time cost=8.992\n",
      "INFO:root:Epoch[4] Validation-accuracy=0.650706\n",
      "INFO:root:Epoch[5] Train-accuracy=0.693973\n",
      "INFO:root:Epoch[5] Time cost=8.998\n",
      "INFO:root:Epoch[5] Validation-accuracy=0.702235\n",
      "INFO:root:Epoch[6] Train-accuracy=0.708199\n",
      "INFO:root:Epoch[6] Time cost=8.952\n",
      "INFO:root:Epoch[6] Validation-accuracy=0.714039\n",
      "INFO:root:Epoch[7] Train-accuracy=0.716481\n",
      "INFO:root:Epoch[7] Time cost=8.957\n",
      "INFO:root:Epoch[7] Validation-accuracy=0.712549\n",
      "INFO:root:Epoch[8] Train-accuracy=0.721970\n",
      "INFO:root:Epoch[8] Time cost=9.012\n",
      "INFO:root:Epoch[8] Validation-accuracy=0.711843\n",
      "INFO:root:Epoch[9] Train-accuracy=0.728283\n",
      "INFO:root:Epoch[9] Time cost=9.002\n",
      "INFO:root:Epoch[9] Validation-accuracy=0.711333\n"
     ]
    }
   ],
   "source": [
    "import logging\n",
    "logging.getLogger().setLevel(logging.DEBUG)  # logging to stdout\n",
    "# create a trainable module on GPU 0\n",
    "lenet_model = mx.mod.Module(symbol=vggnet, context=mx.gpu())\n",
    "# train with the same \n",
    "\"\"\"\n",
    "batch_end_callback = mx.callback.Speedometer(batch_size, 1000),\n",
    "optimizer_params={'learning_rate':0.1},\n",
    "\"\"\"\n",
    "#optimizer_params={'learning_rate':0.5,'beta1':0.1,'beta2':0.111},\n",
    "lenet_model.fit(train_iter,\n",
    "                eval_data=val_iter,\n",
    "                optimizer='sgd',\n",
    "                optimizer_params={'learning_rate':0.1},\n",
    "                eval_metric='acc',\n",
    "                batch_end_callback = mx.callback.Speedometer(batch_size, 1000),\n",
    "                num_epoch=10)"
   ]
  },
  {
   "cell_type": "code",
   "execution_count": 28,
   "metadata": {},
   "outputs": [
    {
     "name": "stderr",
     "output_type": "stream",
     "text": [
      "INFO:root:Saved checkpoint to \"300pt-0005.params\"\n"
     ]
    }
   ],
   "source": [
    "lenet_model.save_checkpoint(prefix='300pt',epoch=5)"
   ]
  },
  {
   "cell_type": "code",
   "execution_count": 26,
   "metadata": {},
   "outputs": [
    {
     "data": {
      "image/png": "[encoded data removed]",
      "text/plain": [
       "<matplotlib.figure.Figure at 0x5cd7750>"
      ]
     },
     "metadata": {},
     "output_type": "display_data"
    }
   ],
   "source": [
    "valpred=lenet_model.predict(val_iter).asnumpy()[:,1]\n",
    "\n",
    "trainpred=lenet_model.predict(train_iter).asnumpy()[:,1]\n",
    "\n",
    "t_fpr, t_tpr, _ = roc_curve( label_train, trainpred)\n",
    "t_fnr = 1 - t_fpr\n",
    "\n",
    "e_fpr, e_tpr, _ = roc_curve( label_test, valpred )\n",
    "\n",
    "import matplotlib.pyplot as plt\n",
    "%matplotlib inline\n",
    "plt.figure( figsize=(10, 10) )\n",
    "train_auc = np.around( auc(t_fpr, t_tpr), 4 )\n",
    "eval_auc = np.around( auc(e_fpr, e_tpr), 4 )\n",
    "plt.title( \"ROC\" )\n",
    "plt.xlabel( \"FPR\" )\n",
    "plt.ylabel( \"TPR\" )\n",
    "plt.plot( t_fpr, t_tpr, alpha=0.6, c='m', label=\"Training AUC = {}\".format( train_auc ) )\n",
    "plt.plot( e_fpr, e_tpr, alpha=0.6, c='c', label=\"Evaluation AUC = {}\".format( eval_auc ) )\n",
    "plt.plot( [0,1], [0, 1], c='k', alpha=1 )\n",
    "plt.legend( loc=2 )\n",
    "plt.show()"
   ]
  },
  {
   "cell_type": "code",
   "execution_count": 37,
   "metadata": {},
   "outputs": [
    {
     "data": {
      "image/png": "[encoded data removed]",
      "text/plain": [
       "<matplotlib.figure.Figure at 0x8db52a10>"
      ]
     },
     "metadata": {},
     "output_type": "display_data"
    }
   ],
   "source": [
    "valpred=lenet_model.predict(val_iter).asnumpy()[:,1]\n",
    "\n",
    "trainpred=lenet_model.predict(train_iter).asnumpy()[:,1]\n",
    "\n",
    "t_fpr, t_tpr, _ = roc_curve( label_train, trainpred)\n",
    "t_fnr = 1 - t_fpr\n",
    "e_fpr, e_tpr, _ = roc_curve( label_test, valpred )\n",
    "e_fnr = 1 - e_fpr\n",
    "\n",
    "import matplotlib.pyplot as plt\n",
    "%matplotlib inline\n",
    "plt.figure( figsize=(10, 10) )\n",
    "train_auc = np.around( auc(t_fpr, t_tpr), 4 )\n",
    "eval_auc = np.around( auc(e_fpr, e_tpr), 4 )\n",
    "plt.title( \"ROC\" )\n",
    "plt.xlabel( \"Quark Jet Efficiency (TPR)\" )\n",
    "plt.ylabel( \"Gluon Jet Rejection (FNR)\" )\n",
    "plt.plot( t_tpr, t_fnr, alpha=0.6, c='m', label=\"Training AUC = {}\".format( train_auc ), lw=2 )\n",
    "plt.plot( e_tpr, e_fnr, alpha=0.6, c='c', label=\"Evaluation AUC = {}\".format( eval_auc ), lw=2 )\n",
    "plt.plot( [0,1], [1, 1], c='k', alpha=1, linestyle='dashed' )\n",
    "plt.plot( [1,1], [0, 1], c='k', alpha=1, linestyle='dashed' )\n",
    "plt.legend( loc='lower left' )\n",
    "plt.xlim((0, 1.1))\n",
    "plt.ylim((0, 1.1))\n",
    "plt.grid()\n",
    "plt.show()"
   ]
  },
  {
   "cell_type": "code",
   "execution_count": 36,
   "metadata": {
    "collapsed": true
   },
   "outputs": [],
   "source": [
    "plt.plot?"
   ]
  },
  {
   "cell_type": "code",
   "execution_count": null,
   "metadata": {
    "collapsed": true
   },
   "outputs": [],
   "source": []
  }
 ],
 "metadata": {
  "kernelspec": {
   "display_name": "Python 2",
   "language": "python",
   "name": "python2"
  },
  "language_info": {
   "codemirror_mode": {
    "name": "ipython",
    "version": 2
   },
   "file_extension": ".py",
   "mimetype": "text/x-python",
   "name": "python",
   "nbconvert_exporter": "python",
   "pygments_lexer": "ipython2",
   "version": "2.7.5"
  }
 },
 "nbformat": 4,
 "nbformat_minor": 2
}
