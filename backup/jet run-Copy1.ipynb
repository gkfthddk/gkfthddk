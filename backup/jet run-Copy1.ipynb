{
 "cells": [
  {
   "cell_type": "code",
   "execution_count": 2,
   "metadata": {},
   "outputs": [
    {
     "data": {
      "text/plain": [
       "749"
      ]
     },
     "execution_count": 2,
     "metadata": {},
     "output_type": "execute_result"
    }
   ],
   "source": [
    "jet.GetEntry(100)"
   ]
  },
  {
   "cell_type": "code",
   "execution_count": 2,
   "metadata": {},
   "outputs": [
    {
     "data": {
      "application/javascript": [
       "\n",
       "require(['notebook'],\n",
       "  function() {\n",
       "    IPython.CodeCell.config_defaults.highlight_modes['magic_text/x-c++src'] = {'reg':[/^%%cpp/]};\n",
       "    console.log(\"JupyROOT - %%cpp magic configured\");\n",
       "  }\n",
       ");\n"
      ]
     },
     "metadata": {},
     "output_type": "display_data"
    },
    {
     "name": "stdout",
     "output_type": "stream",
     "text": [
      "Welcome to JupyROOT 6.08/06\n"
     ]
    }
   ],
   "source": [
    "import ROOT as rt\n",
    "import numpy as np\n",
    "import math\n",
    "import mxnet as mx\n",
    "import datetime\n",
    "start=datetime.datetime.now()\n",
    "#record=mx.recordio.MXRecordIO('tmp.rec','w')\n",
    "jetset=[]\n",
    "labels=[]\n",
    "maxx=0.4\n",
    "maxy=0.4\n",
    "arnum=16\n",
    "bx=2*maxx/(2*arnum+1)\n",
    "by=2*maxy/(2*arnum+1)\n",
    "read=rt.TFile('jet2.root')\n",
    "jet=rt.gDirectory.Get('jetAnalyser/jetAnalyser')\n",
    "entries=jet.GetEntriesFast()\n",
    "overlap=np.zeros(shape=(3,2*arnum+1,2*arnum+1))\n",
    "for ent in range(entries):\n",
    "    if ent>1500000:\n",
    "        break\n",
    "    jet.GetEntry(ent)\n",
    "    #if jet.pt<300 or jet.pt>400:\n",
    "    #    continue\n",
    "    if jet.partonId==21:\n",
    "        labels.append(1)\n",
    "    else:\n",
    "        labels.append(0)\n",
    "    palet=np.zeros(shape=(3,2*arnum+1,2*arnum+1))\n",
    "    r=0\n",
    "    g=0\n",
    "    b=0\n",
    "    for i in range(len(jet.dau_pt)):\n",
    "        x=int(math.floor((jet.dau_deta[i]/bx)+0.5)+arnum)\n",
    "        if x<0 or x>2*arnum:\n",
    "            continue\n",
    "        y=int(math.floor((jet.dau_dphi[i]/by)+0.5)+arnum)\n",
    "        if y<0 or y>2*arnum:\n",
    "            continue\n",
    "        pt=jet.dau_pt[i]\n",
    "        if jet.dau_charge[i]==0:\n",
    "            palet[1][x][y]+=pt\n",
    "            #overlap[1][x][y]+=pt\n",
    "            if palet[1][x][y]>g:\n",
    "                g=palet[1][x][y]\n",
    "        else:\n",
    "            palet[0][x][y]+=pt\n",
    "            palet[2][x][y]+=1\n",
    "            #overlap[0][x][y]+=pt\n",
    "            #overlap[2][x][y]+=1\n",
    "            if palet[0][x][y]>r:\n",
    "                r=palet[0][x][y]\n",
    "            if palet[2][x][y]>b:\n",
    "                b=palet[2][x][y]\n",
    "            #pass\n",
    "    #record.write(palet)\n",
    "    for i in range(2*arnum+1):\n",
    "        for j in range(2*arnum+1):\n",
    "            if r!=0:\n",
    "                palet[0][i][j]=255*palet[0][i][j]/r\n",
    "            if g!=0:\n",
    "                palet[1][i][j]=255*palet[1][i][j]/g\n",
    "            if b!=0:\n",
    "                palet[2][i][j]=255*palet[2][i][j]/b\n",
    "    jetset.append(palet)\n",
    "    overlap=np.add(overlap,palet)\n",
    "jetset=np.array(jetset)"
   ]
  },
  {
   "cell_type": "code",
   "execution_count": 3,
   "metadata": {},
   "outputs": [
    {
     "data": {
      "text/plain": [
       "14948"
      ]
     },
     "execution_count": 3,
     "metadata": {},
     "output_type": "execute_result"
    }
   ],
   "source": [
    "len(jetset)"
   ]
  },
  {
   "cell_type": "code",
   "execution_count": 31,
   "metadata": {},
   "outputs": [
    {
     "name": "stdout",
     "output_type": "stream",
     "text": [
      "0:00:54.213581\n"
     ]
    }
   ],
   "source": [
    "for i in range(2*arnum+1):\n",
    "        for j in range(2*arnum+1):\n",
    "            overlap[1][i][j]=255*overlap[1][i][j]/r\n",
    "            overlap[0][i][j]=255*overlap[0][i][j]/g\n",
    "            overlap[2][i][j]=255*overlap[2][i][j]/b\n",
    "labels=np.array(labels)\n",
    "jetset=np.array(jetset)\n",
    "record.close()\n",
    "print datetime.datetime.now()-start"
   ]
  },
  {
   "cell_type": "code",
   "execution_count": 32,
   "metadata": {},
   "outputs": [
    {
     "data": {
      "image/png": "[encoded data removed]",
      "text/plain": [
       "<matplotlib.figure.Figure at 0x242e150>"
      ]
     },
     "metadata": {},
     "output_type": "display_data"
    },
    {
     "name": "stdout",
     "output_type": "stream",
     "text": [
      "[0 0 1 ..., 1 0 0]\n"
     ]
    }
   ],
   "source": [
    "import matplotlib.pyplot as plt\n",
    "%matplotlib inline\n",
    "bkb=np.swapaxes(overlap,0,1)\n",
    "bkb=np.swapaxes(bkb,1,2)\n",
    "plt.imshow(bkb,interpolation='none')\n",
    "print labels\n",
    "plt.show()"
   ]
  },
  {
   "cell_type": "code",
   "execution_count": 25,
   "metadata": {},
   "outputs": [
    {
     "name": "stdout",
     "output_type": "stream",
     "text": [
      "(1, 33, 33, 3)\n"
     ]
    }
   ],
   "source": [
    "import mxnet as mx\n",
    "import numpy as np\n",
    "f=open(\"ccdata06_14.csv\",\"r\")\n",
    "labels=[]\n",
    "data1=[]\n",
    "i=0\n",
    "while True:\n",
    "    i+=1\n",
    "    flav=f.readline()\n",
    "    line=f.readline()\n",
    "    if not line: break\n",
    "    flav=eval(flav)[0]\n",
    "    #if(i>5000):break\n",
    "    #if(eval(flav)!=int): break\n",
    "    if flav==21:\n",
    "        labels.append(0)\n",
    "    else:\n",
    "        labels.append(1)\n",
    "    if(i==1):\n",
    "        data1.append(np.reshape(eval('['+line+']'),(33,33,3)))\n",
    "    else:\n",
    "        data1=np.add(data1,np.reshape(eval('['+line+']'),(33,33,3)))\n",
    "#data1=np.reshape(np.array(data1),(len(data1),1089*3))\n",
    "print data1.shape\n",
    "labels=np.array(labels)\n",
    "f.close()\n",
    "\n",
    "rbuf=0\n",
    "gbuf=0\n",
    "bbuf=0\n",
    "for i in range(33):\n",
    "    for j in range(33):\n",
    "        if(data1[0][i][j][0]>rbuf):\n",
    "            rbuf=data1[0][i][j][0]\n",
    "        if(data1[0][i][j][1]>gbuf):\n",
    "            gbuf=data1[0][i][j][1]\n",
    "        if(data1[0][i][j][2]>bbuf):\n",
    "            bbuf=data1[0][i][j][2]\n",
    "for i in range(33):\n",
    "    for j in range(33):\n",
    "        data1[0][i][j][0]=255*data1[0][i][j][0]/rbuf\n",
    "        data1[0][i][j][1]=255*data1[0][i][j][1]/gbuf\n",
    "        data1[0][i][j][2]=255*data1[0][i][j][2]/bbuf"
   ]
  },
  {
   "cell_type": "code",
   "execution_count": 27,
   "metadata": {
    "scrolled": true
   },
   "outputs": [
    {
     "data": {
      "image/png": "[encoded data removed]",
      "text/plain": [
       "<matplotlib.figure.Figure at 0x21311150>"
      ]
     },
     "metadata": {},
     "output_type": "display_data"
    },
    {
     "name": "stdout",
     "output_type": "stream",
     "text": [
      "[1 1 0 ..., 0 1 1]\n"
     ]
    }
   ],
   "source": [
    "import matplotlib.pyplot as plt\n",
    "%matplotlib inline\n",
    "plt.imshow(np.swapaxes(data1[0],0,1),interpolation='none')\n",
    "print labels\n",
    "plt.show()"
   ]
  },
  {
   "cell_type": "code",
   "execution_count": 4,
   "metadata": {},
   "outputs": [
    {
     "data": {
      "text/plain": [
       "array([ 0.,  0.,  0., ...,  0.,  0.,  0.])"
      ]
     },
     "execution_count": 4,
     "metadata": {},
     "output_type": "execute_result"
    }
   ],
   "source": [
    "np.fromstring(np.ndarray.tostring(palet))"
   ]
  },
  {
   "cell_type": "code",
   "execution_count": 6,
   "metadata": {},
   "outputs": [
    {
     "name": "stdout",
     "output_type": "stream",
     "text": [
      "2 -0.0526000261307\n"
     ]
    }
   ],
   "source": [
    "jet.GetEntry(10)\n",
    "print jet.partonId, jet.dau_deta[1]"
   ]
  },
  {
   "cell_type": "code",
   "execution_count": 4,
   "metadata": {},
   "outputs": [
    {
     "ename": "AttributeError",
     "evalue": "'list' object has no attribute 'reshape'",
     "output_type": "error",
     "traceback": [
      "\u001b[0;31m\u001b[0m",
      "\u001b[0;31mAttributeError\u001b[0mTraceback (most recent call last)",
      "\u001b[0;32m<ipython-input-4-1c57079e58f7>\u001b[0m in \u001b[0;36m<module>\u001b[0;34m()\u001b[0m\n\u001b[1;32m      4\u001b[0m \u001b[0;32mfrom\u001b[0m \u001b[0msklearn\u001b[0m\u001b[0;34m.\u001b[0m\u001b[0mmetrics\u001b[0m \u001b[0;32mimport\u001b[0m \u001b[0mroc_auc_score\u001b[0m\u001b[0;34m,\u001b[0m \u001b[0mauc\u001b[0m\u001b[0;34m,\u001b[0m \u001b[0mprecision_recall_curve\u001b[0m\u001b[0;34m,\u001b[0m \u001b[0mroc_curve\u001b[0m\u001b[0;34m,\u001b[0m \u001b[0maverage_precision_score\u001b[0m\u001b[0;34m\u001b[0m\u001b[0m\n\u001b[1;32m      5\u001b[0m \u001b[0mbatch_size\u001b[0m\u001b[0;34m=\u001b[0m\u001b[0;36m100\u001b[0m\u001b[0;34m\u001b[0m\u001b[0m\n\u001b[0;32m----> 6\u001b[0;31m data_train, data_test, label_train, label_test = train_test_split(jetset.reshape(len(jetset),3*33*33), labels, test_size=0.3,\n\u001b[0m\u001b[1;32m      7\u001b[0m                                                                     random_state=random.randrange(0,10000))\n\u001b[1;32m      8\u001b[0m \u001b[0;31m#data_train=data1[:int(len(data1)*0.7)]\u001b[0m\u001b[0;34m\u001b[0m\u001b[0;34m\u001b[0m\u001b[0m\n",
      "\u001b[0;31mAttributeError\u001b[0m: 'list' object has no attribute 'reshape'"
     ]
    }
   ],
   "source": [
    "import mxnet as mx\n",
    "import random\n",
    "from sklearn.model_selection import train_test_split\n",
    "from sklearn.metrics import roc_auc_score, auc, precision_recall_curve, roc_curve, average_precision_score\n",
    "batch_size=100\n",
    "data_train, data_test, label_train, label_test = train_test_split(jetset.reshape(len(jetset),3*33*33), labels, test_size=0.3,\n",
    "                                                                    random_state=random.randrange(0,10000))\n",
    "#data_train=data1[:int(len(data1)*0.7)]\n",
    "#data_test=data1[int(len(data1)*0.7):]\n",
    "#label_train=labels[:int(len(labels)*0.7)]\n",
    "#label_test=labels[int(len(labels)*0.7):]\n",
    "data_train=data_train.reshape(len(data_train),3,33,33)\n",
    "data_test=data_test.reshape(len(data_test),3,33,33)\n",
    "print data_train.shape\n",
    "train_iter = mx.io.NDArrayIter(data_train, label_train, batch_size, shuffle=False)\n",
    "val_iter = mx.io.NDArrayIter(data_test, label_test, batch_size)\n",
    "\n",
    "data = mx.sym.var('data')\n",
    "# first conv layer\n",
    "conv1 = mx.sym.Convolution(data=data, kernel=(5,5), num_filter=20)\n",
    "tanh1 = mx.sym.Activation(data=conv1, act_type=\"relu\")\n",
    "pool1 = mx.sym.Pooling(data=tanh1, pool_type=\"max\", kernel=(2,2), stride=(2,2))\n",
    "# second conv layer\n",
    "conv2 = mx.sym.Convolution(data=pool1, kernel=(5,5), num_filter=50)\n",
    "tanh2 = mx.sym.Activation(data=conv2, act_type=\"relu\")\n",
    "pool2 = mx.sym.Pooling(data=tanh2, pool_type=\"max\", kernel=(2,2), stride=(2,2))\n",
    "# first fullc layer\n",
    "flatten = mx.sym.flatten(data=pool2)\n",
    "fc1 = mx.symbol.FullyConnected(data=flatten, num_hidden=500)\n",
    "tanh3 = mx.sym.Activation(data=fc1, act_type=\"relu\")\n",
    "# second fullc\n",
    "fc2 = mx.sym.FullyConnected(data=tanh3, num_hidden=2)\n",
    "# softmax loss\n",
    "lenet = mx.sym.SoftmaxOutput(data=fc2, name='softmax')\n",
    "#mx.viz.plot_network(lenet)"
   ]
  },
  {
   "cell_type": "code",
   "execution_count": 23,
   "metadata": {
    "scrolled": true
   },
   "outputs": [
    {
     "data": {
      "image/svg+xml": [
       "<?xml version=\"1.0\" encoding=\"UTF-8\" standalone=\"no\"?>\n",
       "<!DOCTYPE svg PUBLIC \"-//W3C//DTD SVG 1.1//EN\"\n",
       " \"http://www.w3.org/Graphics/SVG/1.1/DTD/svg11.dtd\">\n",
       "<!-- Generated by graphviz version 2.30.1 (20150306.0020)\n",
       " -->\n",
       "<!-- Title: plot Pages: 1 -->\n",
       "<svg width=\"231pt\" height=\"1276pt\"\n",
       " viewBox=\"0.00 0.00 231.00 1276.00\" xmlns=\"http://www.w3.org/2000/svg\" xmlns:xlink=\"http://www.w3.org/1999/xlink\">\n",
       "<g id=\"graph0\" class=\"graph\" transform=\"scale(1 1) rotate(0) translate(4 1272)\">\n",
       "<title>plot</title>\n",
       "<polygon fill=\"white\" stroke=\"white\" points=\"-4,5 -4,-1272 228,-1272 228,5 -4,5\"/>\n",
       "<!-- data -->\n",
       "<g id=\"node1\" class=\"node\"><title>data</title>\n",
       "<ellipse fill=\"#8dd3c7\" stroke=\"black\" cx=\"51\" cy=\"-29\" rx=\"47\" ry=\"29\"/>\n",
       "<text text-anchor=\"middle\" x=\"51\" y=\"-25.3\" font-family=\"Times,serif\" font-size=\"14.00\">data</text>\n",
       "</g>\n",
       "<!-- convolution6 -->\n",
       "<g id=\"node2\" class=\"node\"><title>convolution6</title>\n",
       "<polygon fill=\"#fb8072\" stroke=\"black\" points=\"98,-168 4,-168 4,-110 98,-110 98,-168\"/>\n",
       "<text text-anchor=\"middle\" x=\"51\" y=\"-142.8\" font-family=\"Times,serif\" font-size=\"14.00\">Convolution</text>\n",
       "<text text-anchor=\"middle\" x=\"51\" y=\"-127.8\" font-family=\"Times,serif\" font-size=\"14.00\">5x5/1, 20</text>\n",
       "</g>\n",
       "<!-- convolution6&#45;&gt;data -->\n",
       "<g id=\"edge1\" class=\"edge\"><title>convolution6&#45;&gt;data</title>\n",
       "<path fill=\"none\" stroke=\"black\" d=\"M51,-99.8131C51,-86.1516 51,-71.0092 51,-58.3283\"/>\n",
       "<polygon fill=\"black\" stroke=\"black\" points=\"51,-109.906 46.5001,-99.9062 51,-104.906 51.0001,-99.9062 51.0001,-99.9062 51.0001,-99.9062 51,-104.906 55.5001,-99.9062 51,-109.906 51,-109.906\"/>\n",
       "<text text-anchor=\"middle\" x=\"81.5\" y=\"-80.3\" font-family=\"Times,serif\" font-size=\"14.00\">1x299x299</text>\n",
       "</g>\n",
       "<!-- activation9 -->\n",
       "<g id=\"node3\" class=\"node\"><title>activation9</title>\n",
       "<polygon fill=\"#ffffb3\" stroke=\"black\" points=\"98,-278 4,-278 4,-220 98,-220 98,-278\"/>\n",
       "<text text-anchor=\"middle\" x=\"51\" y=\"-252.8\" font-family=\"Times,serif\" font-size=\"14.00\">Activation</text>\n",
       "<text text-anchor=\"middle\" x=\"51\" y=\"-237.8\" font-family=\"Times,serif\" font-size=\"14.00\">tanh</text>\n",
       "</g>\n",
       "<!-- activation9&#45;&gt;convolution6 -->\n",
       "<g id=\"edge2\" class=\"edge\"><title>activation9&#45;&gt;convolution6</title>\n",
       "<path fill=\"none\" stroke=\"black\" d=\"M51,-209.813C51,-196.152 51,-181.009 51,-168.328\"/>\n",
       "<polygon fill=\"black\" stroke=\"black\" points=\"51,-219.906 46.5001,-209.906 51,-214.906 51.0001,-209.906 51.0001,-209.906 51.0001,-209.906 51,-214.906 55.5001,-209.906 51,-219.906 51,-219.906\"/>\n",
       "<text text-anchor=\"middle\" x=\"85\" y=\"-190.3\" font-family=\"Times,serif\" font-size=\"14.00\">20x295x295</text>\n",
       "</g>\n",
       "<!-- pooling6 -->\n",
       "<g id=\"node4\" class=\"node\"><title>pooling6</title>\n",
       "<polygon fill=\"#80b1d3\" stroke=\"black\" points=\"98,-388 4,-388 4,-330 98,-330 98,-388\"/>\n",
       "<text text-anchor=\"middle\" x=\"51\" y=\"-362.8\" font-family=\"Times,serif\" font-size=\"14.00\">Pooling</text>\n",
       "<text text-anchor=\"middle\" x=\"51\" y=\"-347.8\" font-family=\"Times,serif\" font-size=\"14.00\">max, 2x2/2x2</text>\n",
       "</g>\n",
       "<!-- pooling6&#45;&gt;activation9 -->\n",
       "<g id=\"edge3\" class=\"edge\"><title>pooling6&#45;&gt;activation9</title>\n",
       "<path fill=\"none\" stroke=\"black\" d=\"M51,-319.813C51,-306.152 51,-291.009 51,-278.328\"/>\n",
       "<polygon fill=\"black\" stroke=\"black\" points=\"51,-329.906 46.5001,-319.906 51,-324.906 51.0001,-319.906 51.0001,-319.906 51.0001,-319.906 51,-324.906 55.5001,-319.906 51,-329.906 51,-329.906\"/>\n",
       "<text text-anchor=\"middle\" x=\"85\" y=\"-300.3\" font-family=\"Times,serif\" font-size=\"14.00\">20x295x295</text>\n",
       "</g>\n",
       "<!-- convolution7 -->\n",
       "<g id=\"node5\" class=\"node\"><title>convolution7</title>\n",
       "<polygon fill=\"#fb8072\" stroke=\"black\" points=\"98,-498 4,-498 4,-440 98,-440 98,-498\"/>\n",
       "<text text-anchor=\"middle\" x=\"51\" y=\"-472.8\" font-family=\"Times,serif\" font-size=\"14.00\">Convolution</text>\n",
       "<text text-anchor=\"middle\" x=\"51\" y=\"-457.8\" font-family=\"Times,serif\" font-size=\"14.00\">5x5/1, 50</text>\n",
       "</g>\n",
       "<!-- convolution7&#45;&gt;pooling6 -->\n",
       "<g id=\"edge4\" class=\"edge\"><title>convolution7&#45;&gt;pooling6</title>\n",
       "<path fill=\"none\" stroke=\"black\" d=\"M51,-429.813C51,-416.152 51,-401.009 51,-388.328\"/>\n",
       "<polygon fill=\"black\" stroke=\"black\" points=\"51,-439.906 46.5001,-429.906 51,-434.906 51.0001,-429.906 51.0001,-429.906 51.0001,-429.906 51,-434.906 55.5001,-429.906 51,-439.906 51,-439.906\"/>\n",
       "<text text-anchor=\"middle\" x=\"85\" y=\"-410.3\" font-family=\"Times,serif\" font-size=\"14.00\">20x147x147</text>\n",
       "</g>\n",
       "<!-- activation10 -->\n",
       "<g id=\"node6\" class=\"node\"><title>activation10</title>\n",
       "<polygon fill=\"#ffffb3\" stroke=\"black\" points=\"98,-608 4,-608 4,-550 98,-550 98,-608\"/>\n",
       "<text text-anchor=\"middle\" x=\"51\" y=\"-582.8\" font-family=\"Times,serif\" font-size=\"14.00\">Activation</text>\n",
       "<text text-anchor=\"middle\" x=\"51\" y=\"-567.8\" font-family=\"Times,serif\" font-size=\"14.00\">tanh</text>\n",
       "</g>\n",
       "<!-- activation10&#45;&gt;convolution7 -->\n",
       "<g id=\"edge5\" class=\"edge\"><title>activation10&#45;&gt;convolution7</title>\n",
       "<path fill=\"none\" stroke=\"black\" d=\"M51,-539.813C51,-526.152 51,-511.009 51,-498.328\"/>\n",
       "<polygon fill=\"black\" stroke=\"black\" points=\"51,-549.906 46.5001,-539.906 51,-544.906 51.0001,-539.906 51.0001,-539.906 51.0001,-539.906 51,-544.906 55.5001,-539.906 51,-549.906 51,-549.906\"/>\n",
       "<text text-anchor=\"middle\" x=\"85\" y=\"-520.3\" font-family=\"Times,serif\" font-size=\"14.00\">50x143x143</text>\n",
       "</g>\n",
       "<!-- pooling7 -->\n",
       "<g id=\"node7\" class=\"node\"><title>pooling7</title>\n",
       "<polygon fill=\"#80b1d3\" stroke=\"black\" points=\"98,-718 4,-718 4,-660 98,-660 98,-718\"/>\n",
       "<text text-anchor=\"middle\" x=\"51\" y=\"-692.8\" font-family=\"Times,serif\" font-size=\"14.00\">Pooling</text>\n",
       "<text text-anchor=\"middle\" x=\"51\" y=\"-677.8\" font-family=\"Times,serif\" font-size=\"14.00\">max, 2x2/2x2</text>\n",
       "</g>\n",
       "<!-- pooling7&#45;&gt;activation10 -->\n",
       "<g id=\"edge6\" class=\"edge\"><title>pooling7&#45;&gt;activation10</title>\n",
       "<path fill=\"none\" stroke=\"black\" d=\"M51,-649.813C51,-636.152 51,-621.009 51,-608.328\"/>\n",
       "<polygon fill=\"black\" stroke=\"black\" points=\"51,-659.906 46.5001,-649.906 51,-654.906 51.0001,-649.906 51.0001,-649.906 51.0001,-649.906 51,-654.906 55.5001,-649.906 51,-659.906 51,-659.906\"/>\n",
       "<text text-anchor=\"middle\" x=\"85\" y=\"-630.3\" font-family=\"Times,serif\" font-size=\"14.00\">50x143x143</text>\n",
       "</g>\n",
       "<!-- flatten3 -->\n",
       "<g id=\"node8\" class=\"node\"><title>flatten3</title>\n",
       "<polygon fill=\"#fdb462\" stroke=\"black\" points=\"98,-828 4,-828 4,-770 98,-770 98,-828\"/>\n",
       "<text text-anchor=\"middle\" x=\"51\" y=\"-795.3\" font-family=\"Times,serif\" font-size=\"14.00\">flatten3</text>\n",
       "</g>\n",
       "<!-- flatten3&#45;&gt;pooling7 -->\n",
       "<g id=\"edge7\" class=\"edge\"><title>flatten3&#45;&gt;pooling7</title>\n",
       "<path fill=\"none\" stroke=\"black\" d=\"M51,-759.813C51,-746.152 51,-731.009 51,-718.328\"/>\n",
       "<polygon fill=\"black\" stroke=\"black\" points=\"51,-769.906 46.5001,-759.906 51,-764.906 51.0001,-759.906 51.0001,-759.906 51.0001,-759.906 51,-764.906 55.5001,-759.906 51,-769.906 51,-769.906\"/>\n",
       "<text text-anchor=\"middle\" x=\"78.5\" y=\"-740.3\" font-family=\"Times,serif\" font-size=\"14.00\">50x71x71</text>\n",
       "</g>\n",
       "<!-- fullyconnected6 -->\n",
       "<g id=\"node9\" class=\"node\"><title>fullyconnected6</title>\n",
       "<polygon fill=\"#fb8072\" stroke=\"black\" points=\"102.25,-938 -0.25,-938 -0.25,-880 102.25,-880 102.25,-938\"/>\n",
       "<text text-anchor=\"middle\" x=\"51\" y=\"-912.8\" font-family=\"Times,serif\" font-size=\"14.00\">FullyConnected</text>\n",
       "<text text-anchor=\"middle\" x=\"51\" y=\"-897.8\" font-family=\"Times,serif\" font-size=\"14.00\">500</text>\n",
       "</g>\n",
       "<!-- fullyconnected6&#45;&gt;flatten3 -->\n",
       "<g id=\"edge8\" class=\"edge\"><title>fullyconnected6&#45;&gt;flatten3</title>\n",
       "<path fill=\"none\" stroke=\"black\" d=\"M51,-869.813C51,-856.152 51,-841.009 51,-828.328\"/>\n",
       "<polygon fill=\"black\" stroke=\"black\" points=\"51,-879.906 46.5001,-869.906 51,-874.906 51.0001,-869.906 51.0001,-869.906 51.0001,-869.906 51,-874.906 55.5001,-869.906 51,-879.906 51,-879.906\"/>\n",
       "<text text-anchor=\"middle\" x=\"71.5\" y=\"-850.3\" font-family=\"Times,serif\" font-size=\"14.00\">252050</text>\n",
       "</g>\n",
       "<!-- activation11 -->\n",
       "<g id=\"node10\" class=\"node\"><title>activation11</title>\n",
       "<polygon fill=\"#ffffb3\" stroke=\"black\" points=\"98,-1048 4,-1048 4,-990 98,-990 98,-1048\"/>\n",
       "<text text-anchor=\"middle\" x=\"51\" y=\"-1022.8\" font-family=\"Times,serif\" font-size=\"14.00\">Activation</text>\n",
       "<text text-anchor=\"middle\" x=\"51\" y=\"-1007.8\" font-family=\"Times,serif\" font-size=\"14.00\">tanh</text>\n",
       "</g>\n",
       "<!-- activation11&#45;&gt;fullyconnected6 -->\n",
       "<g id=\"edge9\" class=\"edge\"><title>activation11&#45;&gt;fullyconnected6</title>\n",
       "<path fill=\"none\" stroke=\"black\" d=\"M51,-979.813C51,-966.152 51,-951.009 51,-938.328\"/>\n",
       "<polygon fill=\"black\" stroke=\"black\" points=\"51,-989.906 46.5001,-979.906 51,-984.906 51.0001,-979.906 51.0001,-979.906 51.0001,-979.906 51,-984.906 55.5001,-979.906 51,-989.906 51,-989.906\"/>\n",
       "<text text-anchor=\"middle\" x=\"61.5\" y=\"-960.3\" font-family=\"Times,serif\" font-size=\"14.00\">500</text>\n",
       "</g>\n",
       "<!-- fullyconnected7 -->\n",
       "<g id=\"node11\" class=\"node\"><title>fullyconnected7</title>\n",
       "<polygon fill=\"#fb8072\" stroke=\"black\" points=\"102.25,-1158 -0.25,-1158 -0.25,-1100 102.25,-1100 102.25,-1158\"/>\n",
       "<text text-anchor=\"middle\" x=\"51\" y=\"-1132.8\" font-family=\"Times,serif\" font-size=\"14.00\">FullyConnected</text>\n",
       "<text text-anchor=\"middle\" x=\"51\" y=\"-1117.8\" font-family=\"Times,serif\" font-size=\"14.00\">2</text>\n",
       "</g>\n",
       "<!-- fullyconnected7&#45;&gt;activation11 -->\n",
       "<g id=\"edge10\" class=\"edge\"><title>fullyconnected7&#45;&gt;activation11</title>\n",
       "<path fill=\"none\" stroke=\"black\" d=\"M51,-1089.81C51,-1076.15 51,-1061.01 51,-1048.33\"/>\n",
       "<polygon fill=\"black\" stroke=\"black\" points=\"51,-1099.91 46.5001,-1089.91 51,-1094.91 51.0001,-1089.91 51.0001,-1089.91 51.0001,-1089.91 51,-1094.91 55.5001,-1089.91 51,-1099.91 51,-1099.91\"/>\n",
       "<text text-anchor=\"middle\" x=\"61.5\" y=\"-1070.3\" font-family=\"Times,serif\" font-size=\"14.00\">500</text>\n",
       "</g>\n",
       "<!-- softmax_label -->\n",
       "<g id=\"node12\" class=\"node\"><title>softmax_label</title>\n",
       "<ellipse fill=\"#8dd3c7\" stroke=\"black\" cx=\"172\" cy=\"-1129\" rx=\"51.2967\" ry=\"29\"/>\n",
       "<text text-anchor=\"middle\" x=\"172\" y=\"-1125.3\" font-family=\"Times,serif\" font-size=\"14.00\">softmax_label</text>\n",
       "</g>\n",
       "<!-- softmax -->\n",
       "<g id=\"node13\" class=\"node\"><title>softmax</title>\n",
       "<polygon fill=\"#fccde5\" stroke=\"black\" points=\"183,-1268 89,-1268 89,-1210 183,-1210 183,-1268\"/>\n",
       "<text text-anchor=\"middle\" x=\"136\" y=\"-1235.3\" font-family=\"Times,serif\" font-size=\"14.00\">softmax</text>\n",
       "</g>\n",
       "<!-- softmax&#45;&gt;fullyconnected7 -->\n",
       "<g id=\"edge11\" class=\"edge\"><title>softmax&#45;&gt;fullyconnected7</title>\n",
       "<path fill=\"none\" stroke=\"black\" d=\"M107.518,-1201.81C96.3665,-1187.64 83.765,-1171.63 73.2954,-1158.33\"/>\n",
       "<polygon fill=\"black\" stroke=\"black\" points=\"113.889,-1209.91 104.168,-1204.83 110.797,-1205.98 107.704,-1202.05 107.704,-1202.05 107.704,-1202.05 110.797,-1205.98 111.241,-1199.26 113.889,-1209.91 113.889,-1209.91\"/>\n",
       "<text text-anchor=\"middle\" x=\"102.5\" y=\"-1180.3\" font-family=\"Times,serif\" font-size=\"14.00\">2</text>\n",
       "</g>\n",
       "<!-- softmax&#45;&gt;softmax_label -->\n",
       "<g id=\"edge12\" class=\"edge\"><title>softmax&#45;&gt;softmax_label</title>\n",
       "<path fill=\"none\" stroke=\"black\" d=\"M148.648,-1200.06C153.313,-1186.06 158.505,-1170.48 162.807,-1157.58\"/>\n",
       "<polygon fill=\"black\" stroke=\"black\" points=\"145.365,-1209.91 144.258,-1199 146.946,-1205.16 148.527,-1200.42 148.527,-1200.42 148.527,-1200.42 146.946,-1205.16 152.796,-1201.84 145.365,-1209.91 145.365,-1209.91\"/>\n",
       "</g>\n",
       "</g>\n",
       "</svg>\n"
      ],
      "text/plain": [
       "<graphviz.dot.Digraph at 0x1eabb9d0>"
      ]
     },
     "execution_count": 23,
     "metadata": {},
     "output_type": "execute_result"
    }
   ],
   "source": [
    "mx.viz.plot_network(lenet, shape={\"data\":(1, 1, 299, 299)}, node_attrs={\"shape\":'rect',\"fixedsize\":'false'})"
   ]
  },
  {
   "cell_type": "code",
   "execution_count": 18,
   "metadata": {},
   "outputs": [
    {
     "name": "stderr",
     "output_type": "stream",
     "text": [
      "[00:16:31] src/operator/././cudnn_algoreg-inl.h:65: Running performance tests to find the best convolution algorithm, this can take a while... (setting env variable MXNET_CUDNN_AUTOTUNE_DEFAULT to 0 to disable)\n",
      "INFO:root:Epoch[0] Train-accuracy=0.545714\n",
      "INFO:root:Epoch[0] Time cost=0.288\n",
      "INFO:root:Epoch[0] Validation-accuracy=0.534889\n",
      "INFO:root:Epoch[1] Train-accuracy=0.561619\n",
      "INFO:root:Epoch[1] Time cost=0.263\n",
      "INFO:root:Epoch[1] Validation-accuracy=0.639778\n",
      "INFO:root:Epoch[2] Train-accuracy=0.645333\n",
      "INFO:root:Epoch[2] Time cost=0.260\n",
      "INFO:root:Epoch[2] Validation-accuracy=0.637778\n",
      "INFO:root:Epoch[3] Train-accuracy=0.656667\n",
      "INFO:root:Epoch[3] Time cost=0.261\n",
      "INFO:root:Epoch[3] Validation-accuracy=0.650222\n",
      "INFO:root:Epoch[4] Train-accuracy=0.665333\n",
      "INFO:root:Epoch[4] Time cost=0.263\n",
      "INFO:root:Epoch[4] Validation-accuracy=0.656444\n",
      "INFO:root:Epoch[5] Train-accuracy=0.672857\n",
      "INFO:root:Epoch[5] Time cost=0.262\n",
      "INFO:root:Epoch[5] Validation-accuracy=0.660667\n",
      "INFO:root:Epoch[6] Train-accuracy=0.676857\n",
      "INFO:root:Epoch[6] Time cost=0.263\n",
      "INFO:root:Epoch[6] Validation-accuracy=0.668222\n",
      "INFO:root:Epoch[7] Train-accuracy=0.680571\n",
      "INFO:root:Epoch[7] Time cost=0.264\n",
      "INFO:root:Epoch[7] Validation-accuracy=0.672889\n",
      "INFO:root:Epoch[8] Train-accuracy=0.684190\n",
      "INFO:root:Epoch[8] Time cost=0.261\n",
      "INFO:root:Epoch[8] Validation-accuracy=0.674667\n",
      "INFO:root:Epoch[9] Train-accuracy=0.686095\n",
      "INFO:root:Epoch[9] Time cost=0.263\n",
      "INFO:root:Epoch[9] Validation-accuracy=0.674222\n",
      "INFO:root:Epoch[10] Train-accuracy=0.688571\n",
      "INFO:root:Epoch[10] Time cost=0.263\n",
      "INFO:root:Epoch[10] Validation-accuracy=0.677556\n",
      "INFO:root:Epoch[11] Train-accuracy=0.691429\n",
      "INFO:root:Epoch[11] Time cost=0.262\n",
      "INFO:root:Epoch[11] Validation-accuracy=0.676000\n",
      "INFO:root:Epoch[12] Train-accuracy=0.695810\n",
      "INFO:root:Epoch[12] Time cost=0.261\n",
      "INFO:root:Epoch[12] Validation-accuracy=0.678667\n",
      "INFO:root:Epoch[13] Train-accuracy=0.698190\n",
      "INFO:root:Epoch[13] Time cost=0.261\n",
      "INFO:root:Epoch[13] Validation-accuracy=0.678667\n",
      "INFO:root:Epoch[14] Train-accuracy=0.700667\n",
      "INFO:root:Epoch[14] Time cost=0.262\n",
      "INFO:root:Epoch[14] Validation-accuracy=0.677111\n",
      "INFO:root:Epoch[15] Train-accuracy=0.705429\n",
      "INFO:root:Epoch[15] Time cost=0.263\n",
      "INFO:root:Epoch[15] Validation-accuracy=0.675556\n",
      "INFO:root:Epoch[16] Train-accuracy=0.707619\n",
      "INFO:root:Epoch[16] Time cost=0.261\n",
      "INFO:root:Epoch[16] Validation-accuracy=0.672889\n",
      "INFO:root:Epoch[17] Train-accuracy=0.711333\n",
      "INFO:root:Epoch[17] Time cost=0.263\n",
      "INFO:root:Epoch[17] Validation-accuracy=0.673778\n",
      "INFO:root:Epoch[18] Train-accuracy=0.716762\n",
      "INFO:root:Epoch[18] Time cost=0.264\n",
      "INFO:root:Epoch[18] Validation-accuracy=0.662222\n",
      "INFO:root:Epoch[19] Train-accuracy=0.723524\n",
      "INFO:root:Epoch[19] Time cost=0.261\n",
      "INFO:root:Epoch[19] Validation-accuracy=0.669556\n",
      "INFO:root:Epoch[20] Train-accuracy=0.729238\n",
      "INFO:root:Epoch[20] Time cost=0.263\n",
      "INFO:root:Epoch[20] Validation-accuracy=0.647333\n",
      "INFO:root:Epoch[21] Train-accuracy=0.734762\n",
      "INFO:root:Epoch[21] Time cost=0.261\n",
      "INFO:root:Epoch[21] Validation-accuracy=0.681556\n",
      "INFO:root:Epoch[22] Train-accuracy=0.740667\n",
      "INFO:root:Epoch[22] Time cost=0.264\n",
      "INFO:root:Epoch[22] Validation-accuracy=0.669556\n",
      "INFO:root:Epoch[23] Train-accuracy=0.747619\n",
      "INFO:root:Epoch[23] Time cost=0.262\n",
      "INFO:root:Epoch[23] Validation-accuracy=0.688667\n",
      "INFO:root:Epoch[24] Train-accuracy=0.755143\n",
      "INFO:root:Epoch[24] Time cost=0.263\n",
      "INFO:root:Epoch[24] Validation-accuracy=0.632444\n",
      "INFO:root:Epoch[25] Train-accuracy=0.765810\n",
      "INFO:root:Epoch[25] Time cost=0.260\n",
      "INFO:root:Epoch[25] Validation-accuracy=0.644000\n",
      "INFO:root:Epoch[26] Train-accuracy=0.772571\n",
      "INFO:root:Epoch[26] Time cost=0.261\n",
      "INFO:root:Epoch[26] Validation-accuracy=0.656444\n",
      "INFO:root:Epoch[27] Train-accuracy=0.785333\n",
      "INFO:root:Epoch[27] Time cost=0.263\n",
      "INFO:root:Epoch[27] Validation-accuracy=0.654000\n",
      "INFO:root:Epoch[28] Train-accuracy=0.790190\n",
      "INFO:root:Epoch[28] Time cost=0.260\n",
      "INFO:root:Epoch[28] Validation-accuracy=0.667111\n",
      "INFO:root:Epoch[29] Train-accuracy=0.804190\n",
      "INFO:root:Epoch[29] Time cost=0.264\n",
      "INFO:root:Epoch[29] Validation-accuracy=0.660889\n"
     ]
    }
   ],
   "source": [
    "import logging\n",
    "logging.getLogger().setLevel(logging.DEBUG)  # logging to stdout\n",
    "# create a trainable module on GPU 0\n",
    "lenet_model = mx.mod.Module(symbol=lenet, context=mx.gpu())\n",
    "# train with the same \n",
    "#optimizer_params={'learning_rate':0.5,'beta1':0.1,'beta2':0.111},\n",
    "lenet_model.fit(train_iter,\n",
    "                eval_data=val_iter,\n",
    "                optimizer='sgd',\n",
    "                \n",
    "                eval_metric='acc',\n",
    "                batch_end_callback = mx.callback.Speedometer(batch_size, 1000),\n",
    "                num_epoch=30)"
   ]
  },
  {
   "cell_type": "code",
   "execution_count": 28,
   "metadata": {},
   "outputs": [
    {
     "name": "stderr",
     "output_type": "stream",
     "text": [
      "INFO:root:Saved checkpoint to \"300pt-0005.params\"\n"
     ]
    }
   ],
   "source": [
    "lenet_model.save_checkpoint(prefix='300pt',epoch=5)"
   ]
  },
  {
   "cell_type": "code",
   "execution_count": 19,
   "metadata": {
    "collapsed": true
   },
   "outputs": [],
   "source": [
    "valpred=lenet_model.predict(val_iter).asnumpy()[:,1]\n",
    "\n",
    "trainpred=lenet_model.predict(train_iter).asnumpy()[:,1]\n",
    "\n",
    "t_fpr, t_tpr, _ = roc_curve( label_train, trainpred)\n",
    "e_fpr, e_tpr, _ = roc_curve( label_test, valpred )"
   ]
  },
  {
   "cell_type": "code",
   "execution_count": 61,
   "metadata": {
    "collapsed": true
   },
   "outputs": [],
   "source": [
    "diff = label_train - trainpred"
   ]
  },
  {
   "cell_type": "code",
   "execution_count": 64,
   "metadata": {
    "collapsed": true
   },
   "outputs": [],
   "source": [
    "diff = abs(diff)"
   ]
  },
  {
   "cell_type": "code",
   "execution_count": 77,
   "metadata": {},
   "outputs": [
    {
     "data": {
      "text/plain": [
       "0.49942159571318262"
      ]
     },
     "execution_count": 77,
     "metadata": {},
     "output_type": "execute_result"
    }
   ],
   "source": [
    "diff.sum() / len(diff)"
   ]
  },
  {
   "cell_type": "code",
   "execution_count": 20,
   "metadata": {},
   "outputs": [
    {
     "data": {
      "image/png": "[encoded data removed]",
      "text/plain": [
       "<matplotlib.figure.Figure at 0x1c7145d0>"
      ]
     },
     "metadata": {},
     "output_type": "display_data"
    }
   ],
   "source": [
    "import matplotlib.pyplot as plt\n",
    "%matplotlib inline\n",
    "plt.figure( figsize=(10, 10) )\n",
    "train_auc = np.around( auc(t_fpr, t_tpr), 4 )\n",
    "eval_auc = np.around( auc(e_fpr, e_tpr), 4 )\n",
    "plt.title( \"ROC\" )\n",
    "plt.xlabel( \"FPR\" )\n",
    "plt.ylabel( \"TPR\" )\n",
    "plt.plot( t_fpr, t_tpr, alpha=0.6, c='m', label=\"Training AUC = {}\".format( train_auc ) )\n",
    "plt.plot( e_fpr, e_tpr, alpha=0.6, c='c', label=\"Evaluation AUC = {}\".format( eval_auc ) )\n",
    "plt.plot( [0,1], [0, 1], c='k', alpha=1 )\n",
    "plt.legend( loc=2 )\n",
    "plt.show()"
   ]
  },
  {
   "cell_type": "code",
   "execution_count": null,
   "metadata": {
    "collapsed": true
   },
   "outputs": [],
   "source": []
  }
 ],
 "metadata": {
  "kernelspec": {
   "display_name": "Python 2",
   "language": "python",
   "name": "python2"
  },
  "language_info": {
   "codemirror_mode": {
    "name": "ipython",
    "version": 2
   },
   "file_extension": ".py",
   "mimetype": "text/x-python",
   "name": "python",
   "nbconvert_exporter": "python",
   "pygments_lexer": "ipython2",
   "version": "2.7.5"
  }
 },
 "nbformat": 4,
 "nbformat_minor": 2
}
