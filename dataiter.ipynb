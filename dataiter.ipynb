{
 "cells": [
  {
   "cell_type": "code",
   "execution_count": 1,
   "metadata": {},
   "outputs": [
    {
     "name": "stdout",
     "output_type": "stream",
     "text": [
      "Welcome to JupyROOT 6.10/00\n"
     ]
    }
   ],
   "source": [
    "import mxnet as mx\n",
    "%matplotlib inline\n",
    "import os\n",
    "import subprocess\n",
    "import numpy as np\n",
    "import matplotlib.pyplot as plt\n",
    "import tarfile\n",
    "import datetime\n",
    "import warnings\n",
    "import ROOT as rt\n",
    "import math\n",
    "warnings.filterwarnings(\"ignore\", category=DeprecationWarning)"
   ]
  },
  {
   "cell_type": "code",
   "execution_count": 2,
   "metadata": {
    "collapsed": true
   },
   "outputs": [],
   "source": [
    "class dataiter(mx.io.DataIter):\n",
    "    def __init__(self,data_names,data_path,data_shapes,data_gen,label_names,label_path,label_shapes,label_gen,batch_size=100):\n",
    "        self._provide_data = zip(data_names, data_shapes)\n",
    "        self._provide_label = zip(label_names, label_shapes)\n",
    "        self.batch_size = batch_size\n",
    "        self.data_line=0\n",
    "        self.data_gen = data_gen\n",
    "        self.label_gen = label_gen\n",
    "        self.endfile=0\n",
    "        self.data_rec=mx.recordio.MXRecordIO(data_path,'r')\n",
    "        self.label_rec=mx.recordio.MXRecordIO(label_path,'r')\n",
    "    def __iter__(self):\n",
    "        return self\n",
    "\n",
    "    def reset(self):\n",
    "        self.data_rec.reset()\n",
    "        self.label_rec.reset()\n",
    "        self.data_line=0\n",
    "        self.endfile = 0\n",
    "\n",
    "    def __next__(self):\n",
    "        return self.next()\n",
    "\n",
    "    @property\n",
    "    def provide_data(self):\n",
    "        return self._provide_data\n",
    "\n",
    "    @property\n",
    "    def provide_label(self):\n",
    "        return self._provide_label\n",
    "\n",
    "    def close(self):\n",
    "        self.record.close()\n",
    "    def printr(self):\n",
    "        print self.record.read()\n",
    "    def next(self):\n",
    "        if self.endfile==0:\n",
    "            c=[]\n",
    "            d=[]\n",
    "            for i in range(100):\n",
    "                a=self.data_rec.read()\n",
    "                b=self.label_rec.read()\n",
    "                if not a:\n",
    "                    self.endfile=1\n",
    "                    break\n",
    "                self.data_line+=1\n",
    "                c.append(eval(a))\n",
    "                d.append(eval(b))\n",
    "            data=[mx.nd.array(c)]\n",
    "            label=[mx.nd.array(d)]\n",
    "            #data = [mx.nd.array(g(d[1])) for d,g in zip(self._provide_data, self.data_gen)]\n",
    "            #label = [mx.nd.array(g(d[1])) for d,g in zip(self._provide_label, self.label_gen)]\n",
    "            return mx.io.DataBatch(data, label)\n",
    "        else:\n",
    "            raise StopIteration"
   ]
  },
  {
   "cell_type": "code",
   "execution_count": 3,
   "metadata": {
    "collapsed": true
   },
   "outputs": [],
   "source": [
    "num_classes = 10\n",
    "n=32\n",
    "data_iter = dataiter(['data'], \"tmptdb.rec\",[(32,32)],\n",
    "                  [lambda s: np.random.uniform(-1, 1, s)],\n",
    "                  ['softmax_label'],\"tmptlb.rec\", [(32,)],\n",
    "                  [lambda s: np.random.randint(0, num_classes, s)],batch_size=100)"
   ]
  },
  {
   "cell_type": "code",
   "execution_count": 31,
   "metadata": {},
   "outputs": [
    {
     "data": {
      "text/plain": [
       "[('data', (32, 32))]"
      ]
     },
     "execution_count": 31,
     "metadata": {},
     "output_type": "execute_result"
    }
   ],
   "source": [
    "data_iter.provide_data"
   ]
  },
  {
   "cell_type": "code",
   "execution_count": 3,
   "metadata": {},
   "outputs": [],
   "source": []
  },
  {
   "cell_type": "code",
   "execution_count": 6,
   "metadata": {},
   "outputs": [
    {
     "name": "stdout",
     "output_type": "stream",
     "text": [
      "0:01:01.700602\n"
     ]
    }
   ],
   "source": [
    "start=datetime.datetime.now()\n",
    "jetset=[]\n",
    "record=mx.recordio.MXRecordIO(\"tmptdb.rec\",\"r\")\n",
    "while True:\n",
    "    a=record.read()\n",
    "    if not a:\n",
    "        break\n",
    "    jetset.append(eval(a))\n",
    "print datetime.datetime.now()-start"
   ]
  },
  {
   "cell_type": "code",
   "execution_count": null,
   "metadata": {
    "collapsed": true
   },
   "outputs": [],
   "source": [
    "batch.getdata()"
   ]
  },
  {
   "cell_type": "code",
   "execution_count": 4,
   "metadata": {
    "scrolled": true
   },
   "outputs": [
    {
     "name": "stdout",
     "output_type": "stream",
     "text": [
      "[<NDArray 100x3x33x33 @cpu(0)>]\n",
      "[<NDArray 100x3x33x33 @cpu(0)>]\n",
      "[<NDArray 100x3x33x33 @cpu(0)>]\n",
      "[<NDArray 100x3x33x33 @cpu(0)>]\n",
      "[<NDArray 100x3x33x33 @cpu(0)>]\n",
      "[<NDArray 100x3x33x33 @cpu(0)>]\n",
      "[<NDArray 100x3x33x33 @cpu(0)>]\n",
      "[<NDArray 100x3x33x33 @cpu(0)>]\n",
      "[<NDArray 100x3x33x33 @cpu(0)>]\n",
      "[<NDArray 100x3x33x33 @cpu(0)>]\n",
      "[<NDArray 100x3x33x33 @cpu(0)>]\n",
      "[<NDArray 100x3x33x33 @cpu(0)>]\n",
      "[<NDArray 100x3x33x33 @cpu(0)>]\n",
      "[<NDArray 100x3x33x33 @cpu(0)>]\n",
      "[<NDArray 100x3x33x33 @cpu(0)>]\n",
      "[<NDArray 100x3x33x33 @cpu(0)>]\n",
      "[<NDArray 100x3x33x33 @cpu(0)>]\n",
      "[<NDArray 100x3x33x33 @cpu(0)>]\n",
      "[<NDArray 100x3x33x33 @cpu(0)>]\n",
      "[<NDArray 100x3x33x33 @cpu(0)>]\n",
      "[<NDArray 100x3x33x33 @cpu(0)>]\n",
      "[<NDArray 100x3x33x33 @cpu(0)>]\n",
      "[<NDArray 100x3x33x33 @cpu(0)>]\n",
      "[<NDArray 100x3x33x33 @cpu(0)>]\n",
      "[<NDArray 100x3x33x33 @cpu(0)>]\n",
      "[<NDArray 100x3x33x33 @cpu(0)>]\n",
      "[<NDArray 100x3x33x33 @cpu(0)>]\n",
      "[<NDArray 100x3x33x33 @cpu(0)>]\n",
      "[<NDArray 100x3x33x33 @cpu(0)>]\n",
      "[<NDArray 100x3x33x33 @cpu(0)>]\n",
      "[<NDArray 100x3x33x33 @cpu(0)>]\n",
      "[<NDArray 100x3x33x33 @cpu(0)>]\n",
      "[<NDArray 100x3x33x33 @cpu(0)>]\n",
      "[<NDArray 100x3x33x33 @cpu(0)>]\n",
      "[<NDArray 100x3x33x33 @cpu(0)>]\n",
      "[<NDArray 100x3x33x33 @cpu(0)>]\n",
      "[<NDArray 100x3x33x33 @cpu(0)>]\n",
      "[<NDArray 100x3x33x33 @cpu(0)>]\n",
      "[<NDArray 100x3x33x33 @cpu(0)>]\n",
      "[<NDArray 100x3x33x33 @cpu(0)>]\n",
      "[<NDArray 100x3x33x33 @cpu(0)>]\n",
      "[<NDArray 100x3x33x33 @cpu(0)>]\n",
      "[<NDArray 100x3x33x33 @cpu(0)>]\n",
      "[<NDArray 100x3x33x33 @cpu(0)>]\n",
      "[<NDArray 100x3x33x33 @cpu(0)>]\n",
      "[<NDArray 100x3x33x33 @cpu(0)>]\n",
      "[<NDArray 100x3x33x33 @cpu(0)>]\n",
      "[<NDArray 100x3x33x33 @cpu(0)>]\n",
      "[<NDArray 100x3x33x33 @cpu(0)>]\n",
      "[<NDArray 100x3x33x33 @cpu(0)>]\n",
      "[<NDArray 100x3x33x33 @cpu(0)>]\n",
      "[<NDArray 100x3x33x33 @cpu(0)>]\n",
      "[<NDArray 100x3x33x33 @cpu(0)>]\n",
      "[<NDArray 100x3x33x33 @cpu(0)>]\n",
      "[<NDArray 100x3x33x33 @cpu(0)>]\n",
      "[<NDArray 100x3x33x33 @cpu(0)>]\n",
      "[<NDArray 100x3x33x33 @cpu(0)>]\n",
      "[<NDArray 100x3x33x33 @cpu(0)>]\n",
      "[<NDArray 100x3x33x33 @cpu(0)>]\n",
      "[<NDArray 100x3x33x33 @cpu(0)>]\n",
      "[<NDArray 100x3x33x33 @cpu(0)>]\n",
      "[<NDArray 100x3x33x33 @cpu(0)>]\n",
      "[<NDArray 100x3x33x33 @cpu(0)>]\n",
      "[<NDArray 100x3x33x33 @cpu(0)>]\n",
      "[<NDArray 100x3x33x33 @cpu(0)>]\n",
      "[<NDArray 100x3x33x33 @cpu(0)>]\n",
      "[<NDArray 100x3x33x33 @cpu(0)>]\n",
      "[<NDArray 100x3x33x33 @cpu(0)>]\n",
      "[<NDArray 100x3x33x33 @cpu(0)>]\n",
      "[<NDArray 100x3x33x33 @cpu(0)>]\n",
      "[<NDArray 100x3x33x33 @cpu(0)>]\n",
      "[<NDArray 100x3x33x33 @cpu(0)>]\n",
      "[<NDArray 100x3x33x33 @cpu(0)>]\n",
      "[<NDArray 100x3x33x33 @cpu(0)>]\n",
      "[<NDArray 100x3x33x33 @cpu(0)>]\n",
      "[<NDArray 100x3x33x33 @cpu(0)>]\n",
      "[<NDArray 100x3x33x33 @cpu(0)>]\n",
      "[<NDArray 100x3x33x33 @cpu(0)>]\n",
      "[<NDArray 100x3x33x33 @cpu(0)>]\n",
      "[<NDArray 100x3x33x33 @cpu(0)>]\n",
      "[<NDArray 100x3x33x33 @cpu(0)>]\n",
      "[<NDArray 100x3x33x33 @cpu(0)>]\n",
      "[<NDArray 100x3x33x33 @cpu(0)>]\n",
      "[<NDArray 100x3x33x33 @cpu(0)>]\n",
      "[<NDArray 100x3x33x33 @cpu(0)>]\n",
      "[<NDArray 100x3x33x33 @cpu(0)>]\n",
      "[<NDArray 100x3x33x33 @cpu(0)>]\n",
      "[<NDArray 100x3x33x33 @cpu(0)>]\n",
      "[<NDArray 100x3x33x33 @cpu(0)>]\n",
      "[<NDArray 100x3x33x33 @cpu(0)>]\n",
      "[<NDArray 100x3x33x33 @cpu(0)>]\n",
      "[<NDArray 100x3x33x33 @cpu(0)>]\n",
      "[<NDArray 100x3x33x33 @cpu(0)>]\n",
      "[<NDArray 100x3x33x33 @cpu(0)>]\n",
      "[<NDArray 100x3x33x33 @cpu(0)>]\n",
      "[<NDArray 100x3x33x33 @cpu(0)>]\n",
      "[<NDArray 100x3x33x33 @cpu(0)>]\n",
      "[<NDArray 100x3x33x33 @cpu(0)>]\n",
      "[<NDArray 100x3x33x33 @cpu(0)>]\n",
      "[<NDArray 100x3x33x33 @cpu(0)>]\n",
      "[<NDArray 100x3x33x33 @cpu(0)>]\n",
      "[<NDArray 100x3x33x33 @cpu(0)>]\n",
      "[<NDArray 100x3x33x33 @cpu(0)>]\n",
      "[<NDArray 100x3x33x33 @cpu(0)>]\n",
      "[<NDArray 100x3x33x33 @cpu(0)>]\n",
      "[<NDArray 100x3x33x33 @cpu(0)>]\n",
      "[<NDArray 100x3x33x33 @cpu(0)>]\n",
      "[<NDArray 100x3x33x33 @cpu(0)>]\n",
      "[<NDArray 100x3x33x33 @cpu(0)>]\n",
      "[<NDArray 100x3x33x33 @cpu(0)>]\n",
      "[<NDArray 100x3x33x33 @cpu(0)>]\n",
      "[<NDArray 100x3x33x33 @cpu(0)>]\n",
      "[<NDArray 100x3x33x33 @cpu(0)>]\n",
      "[<NDArray 100x3x33x33 @cpu(0)>]\n",
      "[<NDArray 100x3x33x33 @cpu(0)>]\n",
      "[<NDArray 100x3x33x33 @cpu(0)>]\n",
      "[<NDArray 100x3x33x33 @cpu(0)>]\n",
      "[<NDArray 100x3x33x33 @cpu(0)>]\n",
      "[<NDArray 100x3x33x33 @cpu(0)>]\n",
      "[<NDArray 100x3x33x33 @cpu(0)>]\n",
      "[<NDArray 100x3x33x33 @cpu(0)>]\n",
      "[<NDArray 100x3x33x33 @cpu(0)>]\n",
      "[<NDArray 100x3x33x33 @cpu(0)>]\n",
      "[<NDArray 100x3x33x33 @cpu(0)>]\n",
      "[<NDArray 100x3x33x33 @cpu(0)>]\n",
      "[<NDArray 100x3x33x33 @cpu(0)>]\n",
      "[<NDArray 100x3x33x33 @cpu(0)>]\n",
      "[<NDArray 100x3x33x33 @cpu(0)>]\n",
      "[<NDArray 100x3x33x33 @cpu(0)>]\n",
      "[<NDArray 100x3x33x33 @cpu(0)>]\n",
      "[<NDArray 100x3x33x33 @cpu(0)>]\n",
      "[<NDArray 100x3x33x33 @cpu(0)>]\n",
      "[<NDArray 100x3x33x33 @cpu(0)>]\n",
      "[<NDArray 100x3x33x33 @cpu(0)>]\n",
      "[<NDArray 100x3x33x33 @cpu(0)>]\n",
      "[<NDArray 100x3x33x33 @cpu(0)>]\n",
      "[<NDArray 100x3x33x33 @cpu(0)>]\n",
      "[<NDArray 100x3x33x33 @cpu(0)>]\n",
      "[<NDArray 100x3x33x33 @cpu(0)>]\n",
      "[<NDArray 100x3x33x33 @cpu(0)>]\n",
      "[<NDArray 100x3x33x33 @cpu(0)>]\n",
      "[<NDArray 100x3x33x33 @cpu(0)>]\n",
      "[<NDArray 100x3x33x33 @cpu(0)>]\n",
      "[<NDArray 100x3x33x33 @cpu(0)>]\n",
      "[<NDArray 100x3x33x33 @cpu(0)>]\n",
      "[<NDArray 100x3x33x33 @cpu(0)>]\n",
      "[<NDArray 100x3x33x33 @cpu(0)>]\n",
      "[<NDArray 100x3x33x33 @cpu(0)>]\n",
      "[<NDArray 100x3x33x33 @cpu(0)>]\n",
      "[<NDArray 48x3x33x33 @cpu(0)>]\n",
      "0:01:01.408312\n"
     ]
    }
   ],
   "source": [
    "start=datetime.datetime.now()\n",
    "data_iter.reset()\n",
    "for batch in data_iter:\n",
    "    print(batch.data)\n",
    "print datetime.datetime.now()-start"
   ]
  },
  {
   "cell_type": "code",
   "execution_count": 5,
   "metadata": {
    "collapsed": true
   },
   "outputs": [],
   "source": [
    "class rootiter(mx.io.DataIter):\n",
    "    def __init__(self,data_path,data_names,label_names,batch_size=100,endcut=0,arnum=16,maxx=0.4,maxy=0.4):\n",
    "        self.batchccc=batch_size\n",
    "        self.batch_size = batch_size\n",
    "        self._provide_data = zip(data_names, [(self.batch_size, 3, 33, 33)])\n",
    "        self._provide_label = zip(label_names, [(self.batch_size,)])\n",
    "        self.ent=0\n",
    "        self.arnum=arnum\n",
    "        self.maxx=maxx\n",
    "        self.maxy=maxy\n",
    "        self.endfile=0\n",
    "        self.file=rt.TFile(data_path,'read')\n",
    "        self.jet=rt.gDirectory.Get('jetAnalyser/jetAnalyser')\n",
    "        self.Entries=self.jet.GetEntriesFast()\n",
    "    def __iter__(self):\n",
    "        return self\n",
    "\n",
    "    def reset(self):\n",
    "        selfbatchccc=self.batch_size\n",
    "        self.jet.GetEntry(0)\n",
    "        self.ent=0\n",
    "        self.endfile = 0\n",
    "\n",
    "    def __next__(self):\n",
    "        return self.next()\n",
    "\n",
    "    @property\n",
    "    def provide_data(self):\n",
    "        return self._provide_data\n",
    "\n",
    "    @property\n",
    "    def provide_label(self):\n",
    "        return self._provide_label\n",
    "\n",
    "    def close(self):\n",
    "        self.file.Close()\n",
    "    def printr(self):\n",
    "        print self.ent,self.jet.pt\n",
    "    def next(self):\n",
    "        if self.endfile==0:\n",
    "            maxx=self.maxx\n",
    "            maxy=self.maxy\n",
    "            arnum=self.arnum\n",
    "            bx=2*maxx/(2*arnum+1)\n",
    "            by=2*maxy/(2*arnum+1)\n",
    "            jetset=[]\n",
    "            labels=[]\n",
    "            for i in range(self.batch_size):\n",
    "                if self.ent>=self.Entries:\n",
    "                    self.endfile=1\n",
    "                    self.ent=0\n",
    "                    #raise StopIteration\n",
    "                    #break\n",
    "                self.jet.GetEntry(self.ent)\n",
    "                if self.jet.partonId==0:\n",
    "                    continue\n",
    "                palet=np.zeros(shape=(3,2*arnum+1,2*arnum+1))\n",
    "                r=0\n",
    "                g=0\n",
    "                b=0\n",
    "                ##\n",
    "                for i in range(len(self.jet.dau_pt)):\n",
    "                    x=int(math.floor((self.jet.dau_deta[i]/bx)+0.5)+arnum)\n",
    "                    if x<0 or x>2*arnum:\n",
    "                        continue\n",
    "                    y=int(math.floor((self.jet.dau_dphi[i]/by)+0.5)+arnum)\n",
    "                    if y<0 or y>2*arnum:\n",
    "                        continue\n",
    "                    pt=self.jet.dau_pt[i]\n",
    "                    if self.jet.dau_charge[i]==0:\n",
    "                        palet[1][x][y]+=pt\n",
    "                        #overlap[1][x][y]+=pt\n",
    "                        if palet[1][x][y]>g:\n",
    "                            g=palet[1][x][y]\n",
    "                    else:\n",
    "                        palet[0][x][y]+=pt\n",
    "                        palet[2][x][y]+=1\n",
    "                        #overlap[0][x][y]+=pt\n",
    "                        #overlap[2][x][y]+=1\n",
    "                        if palet[0][x][y]>r:\n",
    "                            r=palet[0][x][y]\n",
    "                        if palet[2][x][y]>b:\n",
    "                            b=palet[2][x][y]\n",
    "                        #pass\n",
    "                #record.write(palet)\n",
    "                for i in range(2*arnum+1):\n",
    "                    for j in range(2*arnum+1):\n",
    "                        if r!=0:\n",
    "                            palet[0][i][j]=255*palet[0][i][j]/r\n",
    "                        if g!=0:\n",
    "                            palet[1][i][j]=255*palet[1][i][j]/g\n",
    "                        if b!=0:\n",
    "                            palet[2][i][j]=255*palet[2][i][j]/b\n",
    "                ##\n",
    "                jetset.append(palet)\n",
    "                \n",
    "                if self.jet.partonId==21:\n",
    "                    labels.append(1)\n",
    "                else:\n",
    "                    labels.append(0)\n",
    "                self.ent+=1\n",
    "                if(self.endfile!=0):\n",
    "                    if (len(labels)>=self.batch_size):\n",
    "                        self.ent=0\n",
    "                        break\n",
    "            self.batccc=len(labels)\n",
    "            data=[mx.nd.array(jetset)]\n",
    "            label=[mx.nd.array(labels)]\n",
    "            #data = [mx.nd.array(g(d[1])) for d,g in zip(self._provide_data, self.data_gen)]\n",
    "            #label = [mx.nd.array(g(d[1])) for d,g in zip(self._provide_label, self.label_gen)]\n",
    "            return mx.io.DataBatch(data, label)\n",
    "        else:\n",
    "            raise StopIteration"
   ]
  },
  {
   "cell_type": "code",
   "execution_count": 16,
   "metadata": {},
   "outputs": [
    {
     "data": {
      "text/plain": [
       "100123"
      ]
     },
     "execution_count": 16,
     "metadata": {},
     "output_type": "execute_result"
    }
   ],
   "source": [
    "int(100123*1.0)"
   ]
  },
  {
   "cell_type": "code",
   "execution_count": 6,
   "metadata": {},
   "outputs": [],
   "source": [
    "root_iter = rootiter( \"jet2.root\",['data'],['softmax_label'],batch_size=1000)"
   ]
  },
  {
   "cell_type": "code",
   "execution_count": 62,
   "metadata": {},
   "outputs": [
    {
     "data": {
      "text/plain": [
       "<mxnet.io.DataBatch at 0x7ff9d003e950>"
      ]
     },
     "execution_count": 62,
     "metadata": {},
     "output_type": "execute_result"
    }
   ],
   "source": [
    "root_iter.reset()\n",
    "root_iter.next()"
   ]
  },
  {
   "cell_type": "code",
   "execution_count": 63,
   "metadata": {},
   "outputs": [
    {
     "data": {
      "text/plain": [
       "[('data', (100, 3L, 33L, 33L))]"
      ]
     },
     "execution_count": 63,
     "metadata": {},
     "output_type": "execute_result"
    }
   ],
   "source": [
    "root_iter.provide_data"
   ]
  },
  {
   "cell_type": "code",
   "execution_count": null,
   "metadata": {
    "collapsed": true
   },
   "outputs": [],
   "source": [
    "[<NDArray 1000x3x33x33 @cpu(0)>]\n",
    "[<NDArray 1000x3x33x33 @cpu(0)>]\n",
    "[<NDArray 1000x3x33x33 @cpu(0)>]\n",
    "[<NDArray 1000x3x33x33 @cpu(0)>]\n",
    "[<NDArray 1000x3x33x33 @cpu(0)>]\n",
    "[<NDArray 1000x3x33x33 @cpu(0)>]\n",
    "[<NDArray 1000x3x33x33 @cpu(0)>]\n",
    "[<NDArray 1000x3x33x33 @cpu(0)>]\n",
    "[<NDArray 1000x3x33x33 @cpu(0)>]\n",
    "[<NDArray 1000x3x33x33 @cpu(0)>]\n",
    "[<NDArray 1000x3x33x33 @cpu(0)>]\n",
    "[<NDArray 1000x3x33x33 @cpu(0)>]\n",
    "[<NDArray 1000x3x33x33 @cpu(0)>]\n",
    "[<NDArray 1000x3x33x33 @cpu(0)>]\n",
    "0:01:14.475702"
   ]
  },
  {
   "cell_type": "code",
   "execution_count": null,
   "metadata": {
    "collapsed": true
   },
   "outputs": [],
   "source": [
    "[<NDArray 1000x3x33x33 @cpu(0)>]\n",
    "[<NDArray 1000x3x33x33 @cpu(0)>]\n",
    "[<NDArray 1000x3x33x33 @cpu(0)>]\n",
    "[<NDArray 1000x3x33x33 @cpu(0)>]\n",
    "[<NDArray 1000x3x33x33 @cpu(0)>]\n",
    "[<NDArray 1000x3x33x33 @cpu(0)>]\n",
    "[<NDArray 1000x3x33x33 @cpu(0)>]\n",
    "[<NDArray 1000x3x33x33 @cpu(0)>]\n",
    "[<NDArray 1000x3x33x33 @cpu(0)>]\n",
    "[<NDArray 1000x3x33x33 @cpu(0)>]\n",
    "[<NDArray 1000x3x33x33 @cpu(0)>]\n",
    "[<NDArray 1000x3x33x33 @cpu(0)>]\n",
    "[<NDArray 1000x3x33x33 @cpu(0)>]\n",
    "[<NDArray 1000x3x33x33 @cpu(0)>]\n",
    "[<NDArray 1000x3x33x33 @cpu(0)>]\n",
    "0:01:12.295478"
   ]
  },
  {
   "cell_type": "code",
   "execution_count": 7,
   "metadata": {},
   "outputs": [
    {
     "name": "stdout",
     "output_type": "stream",
     "text": [
      "[<NDArray 1000x3x33x33 @cpu(0)>]\n",
      "[<NDArray 1000x3x33x33 @cpu(0)>]\n",
      "[<NDArray 1000x3x33x33 @cpu(0)>]\n",
      "[<NDArray 1000x3x33x33 @cpu(0)>]\n",
      "[<NDArray 1000x3x33x33 @cpu(0)>]\n",
      "[<NDArray 1000x3x33x33 @cpu(0)>]\n",
      "[<NDArray 1000x3x33x33 @cpu(0)>]\n",
      "[<NDArray 1000x3x33x33 @cpu(0)>]\n",
      "[<NDArray 1000x3x33x33 @cpu(0)>]\n",
      "[<NDArray 1000x3x33x33 @cpu(0)>]\n",
      "[<NDArray 1000x3x33x33 @cpu(0)>]\n",
      "[<NDArray 1000x3x33x33 @cpu(0)>]\n",
      "[<NDArray 1000x3x33x33 @cpu(0)>]\n",
      "[<NDArray 1000x3x33x33 @cpu(0)>]\n",
      "[<NDArray 1000x3x33x33 @cpu(0)>]\n",
      "0:01:12.295478\n"
     ]
    }
   ],
   "source": [
    "start=datetime.datetime.now()\n",
    "root_iter.reset()\n",
    "for batch in root_iter:\n",
    "    print(batch.data)\n",
    "print datetime.datetime.now()-start"
   ]
  },
  {
   "cell_type": "code",
   "execution_count": 24,
   "metadata": {},
   "outputs": [
    {
     "data": {
      "text/plain": [
       "<mxnet.io.DataBatch at 0x7ff9d22b98d0>"
      ]
     },
     "execution_count": 24,
     "metadata": {},
     "output_type": "execute_result"
    }
   ],
   "source": [
    "root_iter.next()"
   ]
  },
  {
   "cell_type": "code",
   "execution_count": 25,
   "metadata": {},
   "outputs": [
    {
     "name": "stdout",
     "output_type": "stream",
     "text": [
      "100 123.317497253\n"
     ]
    }
   ],
   "source": [
    "root_iter.printr()"
   ]
  },
  {
   "cell_type": "code",
   "execution_count": 21,
   "metadata": {
    "collapsed": true
   },
   "outputs": [],
   "source": [
    "root_iter.reset()"
   ]
  },
  {
   "cell_type": "code",
   "execution_count": 4,
   "metadata": {
    "collapsed": true
   },
   "outputs": [],
   "source": [
    "import mxnet as mx\n",
    "import random\n",
    "from sklearn.model_selection import train_test_split\n",
    "from sklearn.metrics import roc_auc_score, auc, precision_recall_curve, roc_curve, average_precision_score\n",
    "\n",
    "#data_train=data1[:int(len(data1)*0.7)]\n",
    "#data_test=data1[int(len(data1)*0.7):]\n",
    "#label_train=labels[:int(len(labels)*0.7)]\n",
    "#label_test=labels[int(len(labels)*0.7):]\n",
    "\n",
    "data = mx.sym.var('data')\n",
    "# first conv layer\n",
    "conv1 = mx.sym.Convolution(data=data, kernel=(5,5), num_filter=20)\n",
    "tanh1 = mx.sym.Activation(data=conv1, act_type=\"relu\")\n",
    "pool1 = mx.sym.Pooling(data=tanh1, pool_type=\"max\", kernel=(2,2), stride=(2,2))\n",
    "# second conv layer\n",
    "conv2 = mx.sym.Convolution(data=pool1, kernel=(5,5), num_filter=50)\n",
    "tanh2 = mx.sym.Activation(data=conv2, act_type=\"relu\")\n",
    "pool2 = mx.sym.Pooling(data=tanh2, pool_type=\"max\", kernel=(2,2), stride=(2,2))\n",
    "# first fullc layer\n",
    "flatten = mx.sym.flatten(data=pool2)\n",
    "fc1 = mx.symbol.FullyConnected(data=flatten, num_hidden=500)\n",
    "tanh3 = mx.sym.Activation(data=fc1, act_type=\"relu\")\n",
    "# second fullc\n",
    "fc2 = mx.sym.FullyConnected(data=tanh3, num_hidden=2)\n",
    "# softmax loss\n",
    "lenet = mx.sym.SoftmaxOutput(data=fc2, name='softmax')\n",
    "#mx.viz.plot_network(lenet)"
   ]
  },
  {
   "cell_type": "code",
   "execution_count": null,
   "metadata": {},
   "outputs": [
    {
     "name": "stderr",
     "output_type": "stream",
     "text": [
      "INFO:root:Epoch[0] Train-accuracy=0.629128\n",
      "INFO:root:Epoch[0] Time cost=104.086\n",
      "INFO:root:Epoch[1] Train-accuracy=0.665772\n",
      "INFO:root:Epoch[1] Time cost=84.357\n",
      "INFO:root:Epoch[2] Train-accuracy=0.677383\n",
      "INFO:root:Epoch[2] Time cost=82.980\n"
     ]
    }
   ],
   "source": [
    "import logging\n",
    "logging.getLogger().setLevel(logging.DEBUG)  # logging to stdout\n",
    "# create a trainable module on GPU 0\n",
    "lenet_model = mx.mod.Module(symbol=lenet, context=mx.cpu())\n",
    "# train with the same \n",
    "\"\"\"\n",
    "batch_end_callback = mx.callback.Speedometer(batch_size, 1000),\n",
    "optimizer_params={'learning_rate':0.1},\n",
    "\"\"\"\n",
    "#optimizer_params={'learning_rate':0.5,'beta1':0.1,'beta2':0.111},\n",
    "lenet_model.fit(root_iter,\n",
    "                optimizer='sgd',\n",
    "                optimizer_params={'learning_rate':0.1},\n",
    "                eval_metric='acc',\n",
    "                batch_end_callback = mx.callback.Speedometer(100, 100),\n",
    "                num_epoch=10)"
   ]
  },
  {
   "cell_type": "code",
   "execution_count": 68,
   "metadata": {},
   "outputs": [
    {
     "data": {
      "text/plain": [
       "long"
      ]
     },
     "execution_count": 68,
     "metadata": {},
     "output_type": "execute_result"
    }
   ],
   "source": [
    "import mxnet as mx\n",
    "data=mx.sym.var('data')\n",
    "conv1 = mx.sym.Convolution(data=data, kernel=(3,3),pad=(1,1), num_filter=64)\n",
    "relu1 = mx.sym.Activation(data=conv1, act_type=\"relu\")\n",
    "pool1 = mx.sym.Pooling(data=relu1, pool_type=\"max\", kernel=(2,2), stride=(2,2))\n",
    "conv2 = mx.sym.Convolution(data=pool1, kernel=(3,3),pad=(1,1), num_filter=128)\n",
    "relu2 = mx.sym.Activation(data=conv2, act_type=\"relu\")\n",
    "pool2 = mx.sym.Pooling(data=relu2, pool_type=\"max\", kernel=(2,2), stride=(2,2))\n",
    "conv3 = mx.sym.Convolution(data=pool2, kernel=(3,3),pad=(1,1), num_filter=256)\n",
    "relu3 = mx.sym.Activation(data=conv3, act_type=\"relu\")\n",
    "conv4 = mx.sym.Convolution(data=relu3, kernel=(3,3),pad=(1,1), num_filter=256)\n",
    "relu4 = mx.sym.Activation(data=conv4, act_type=\"relu\")\n",
    "pool3 = mx.sym.Pooling(data=relu4, pool_type=\"max\", kernel=(2,2), stride=(2,2))\n",
    "flatten = mx.sym.flatten(data=pool3)\n",
    "fc1 = mx.symbol.FullyConnected(data=flatten, num_hidden=4096)\n",
    "relu9 = mx.sym.Activation(data=fc1, act_type=\"relu\")\n",
    "drop1=mx.sym.Dropout(data=relu9)\n",
    "fc2 = mx.symbol.FullyConnected(data=drop1, num_hidden=4096)\n",
    "relu10 = mx.sym.Activation(data=fc2, act_type=\"relu\")\n",
    "drop2=mx.sym.Dropout(data=relu10)\n",
    "fc3 = mx.symbol.FullyConnected(data=drop2, num_hidden=2)\n",
    "vggnet=mx.sym.SoftmaxOutput(data=fc3, name='softmax')\n",
    "#mx.viz.plot_network(vggnet,shape={\"data\":(1,3,33,33)})\n",
    "print \"vgg\"\n",
    "\n",
    "import logging\n",
    "logging.getLogger().setLevel(logging.DEBUG)  # logging to stdout\n",
    "# create a trainable module on GPU 0\n",
    "lenet_model = mx.mod.Module(symbol=vggnet, context=mx.gpu())\n",
    "# train with the same \n",
    "\"\"\"\n",
    "batch_end_callback = mx.callback.Speedometer(batch_size, 1000),\n",
    "optimizer_params={'learning_rate':0.1},\n",
    "\"\"\"\n",
    "#optimizer_params={'learning_rate':0.5,'beta1':0.1,'beta2':0.111},\n",
    "lenet_model.fit(train_iter,\n",
    "                eval_data=val_iter,\n",
    "                optimizer='sgd',\n",
    "                optimizer_params={'learning_rate':0.1},\n",
    "                eval_metric='acc',\n",
    "                batch_end_callback = mx.callback.Speedometer(batch_size, 1000),\n",
    "                num_epoch=10)"
   ]
  },
  {
   "cell_type": "code",
   "execution_count": null,
   "metadata": {
    "collapsed": true
   },
   "outputs": [],
   "source": []
  }
 ],
 "metadata": {
  "kernelspec": {
   "display_name": "Python 2",
   "language": "python",
   "name": "python2"
  },
  "language_info": {
   "codemirror_mode": {
    "name": "ipython",
    "version": 2
   },
   "file_extension": ".py",
   "mimetype": "text/x-python",
   "name": "python",
   "nbconvert_exporter": "python",
   "pygments_lexer": "ipython2",
   "version": "2.7.6"
  }
 },
 "nbformat": 4,
 "nbformat_minor": 2
}
